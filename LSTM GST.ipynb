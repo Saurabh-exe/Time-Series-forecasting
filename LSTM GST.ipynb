{
 "cells": [
  {
   "cell_type": "code",
   "execution_count": 1,
   "id": "90bb7139",
   "metadata": {},
   "outputs": [],
   "source": [
    "import numpy as np\n",
    "import pandas as pd\n",
    "import matplotlib.pyplot as plt\n",
    "%matplotlib inline\n",
    "import seaborn as sns\n",
    "from pandas import read_csv\n",
    "from datetime import datetime"
   ]
  },
  {
   "cell_type": "code",
   "execution_count": 2,
   "id": "13cd150e",
   "metadata": {},
   "outputs": [],
   "source": [
    "df = pd.read_excel('Data Sheet for Intern.xlsx',parse_dates=True,sheet_name='GST')"
   ]
  },
  {
   "cell_type": "code",
   "execution_count": 3,
   "id": "6cdee694",
   "metadata": {},
   "outputs": [
    {
     "data": {
      "text/html": [
       "<div>\n",
       "<style scoped>\n",
       "    .dataframe tbody tr th:only-of-type {\n",
       "        vertical-align: middle;\n",
       "    }\n",
       "\n",
       "    .dataframe tbody tr th {\n",
       "        vertical-align: top;\n",
       "    }\n",
       "\n",
       "    .dataframe thead th {\n",
       "        text-align: right;\n",
       "    }\n",
       "</style>\n",
       "<table border=\"1\" class=\"dataframe\">\n",
       "  <thead>\n",
       "    <tr style=\"text-align: right;\">\n",
       "      <th></th>\n",
       "      <th>Unnamed: 0</th>\n",
       "      <th>Unnamed: 1</th>\n",
       "      <th>Unnamed: 2</th>\n",
       "      <th>Unnamed: 3</th>\n",
       "      <th>Unnamed: 4</th>\n",
       "      <th>Unnamed: 5</th>\n",
       "    </tr>\n",
       "  </thead>\n",
       "  <tbody>\n",
       "    <tr>\n",
       "      <th>0</th>\n",
       "      <td>Month</td>\n",
       "      <td>Owner</td>\n",
       "      <td>Course Name</td>\n",
       "      <td>Fees Received</td>\n",
       "      <td>Fees Total</td>\n",
       "      <td>Fees Pending</td>\n",
       "    </tr>\n",
       "    <tr>\n",
       "      <th>1</th>\n",
       "      <td>2020-04-01 00:00:00</td>\n",
       "      <td>Pooja</td>\n",
       "      <td>NaN</td>\n",
       "      <td>7500</td>\n",
       "      <td>7500</td>\n",
       "      <td>0</td>\n",
       "    </tr>\n",
       "    <tr>\n",
       "      <th>2</th>\n",
       "      <td>2020-04-01 00:00:00</td>\n",
       "      <td>Deepak</td>\n",
       "      <td>NaN</td>\n",
       "      <td>8550</td>\n",
       "      <td>8550</td>\n",
       "      <td>0</td>\n",
       "    </tr>\n",
       "    <tr>\n",
       "      <th>3</th>\n",
       "      <td>2020-04-01 00:00:00</td>\n",
       "      <td>Pooja</td>\n",
       "      <td>NaN</td>\n",
       "      <td>6750</td>\n",
       "      <td>6750</td>\n",
       "      <td>0</td>\n",
       "    </tr>\n",
       "    <tr>\n",
       "      <th>4</th>\n",
       "      <td>2020-04-01 00:00:00</td>\n",
       "      <td>Deepak</td>\n",
       "      <td>NaN</td>\n",
       "      <td>8550</td>\n",
       "      <td>8550</td>\n",
       "      <td>0</td>\n",
       "    </tr>\n",
       "  </tbody>\n",
       "</table>\n",
       "</div>"
      ],
      "text/plain": [
       "            Unnamed: 0 Unnamed: 1   Unnamed: 2     Unnamed: 3  Unnamed: 4  \\\n",
       "0                Month      Owner  Course Name  Fees Received  Fees Total   \n",
       "1  2020-04-01 00:00:00      Pooja          NaN           7500        7500   \n",
       "2  2020-04-01 00:00:00     Deepak          NaN           8550        8550   \n",
       "3  2020-04-01 00:00:00      Pooja          NaN           6750        6750   \n",
       "4  2020-04-01 00:00:00     Deepak          NaN           8550        8550   \n",
       "\n",
       "     Unnamed: 5  \n",
       "0  Fees Pending  \n",
       "1             0  \n",
       "2             0  \n",
       "3             0  \n",
       "4             0  "
      ]
     },
     "execution_count": 3,
     "metadata": {},
     "output_type": "execute_result"
    }
   ],
   "source": [
    "df.head()"
   ]
  },
  {
   "cell_type": "code",
   "execution_count": 4,
   "id": "405dd5a1",
   "metadata": {},
   "outputs": [
    {
     "data": {
      "text/plain": [
       "(1298, 6)"
      ]
     },
     "execution_count": 4,
     "metadata": {},
     "output_type": "execute_result"
    }
   ],
   "source": [
    "df.shape"
   ]
  },
  {
   "cell_type": "code",
   "execution_count": 5,
   "id": "54ed1717",
   "metadata": {},
   "outputs": [
    {
     "data": {
      "text/html": [
       "<div>\n",
       "<style scoped>\n",
       "    .dataframe tbody tr th:only-of-type {\n",
       "        vertical-align: middle;\n",
       "    }\n",
       "\n",
       "    .dataframe tbody tr th {\n",
       "        vertical-align: top;\n",
       "    }\n",
       "\n",
       "    .dataframe thead th {\n",
       "        text-align: right;\n",
       "    }\n",
       "</style>\n",
       "<table border=\"1\" class=\"dataframe\">\n",
       "  <thead>\n",
       "    <tr style=\"text-align: right;\">\n",
       "      <th></th>\n",
       "      <th>Month</th>\n",
       "      <th>Owner</th>\n",
       "      <th>Course Name</th>\n",
       "      <th>Fees Received</th>\n",
       "      <th>Fees Total</th>\n",
       "      <th>Fees Pending</th>\n",
       "    </tr>\n",
       "  </thead>\n",
       "  <tbody>\n",
       "    <tr>\n",
       "      <th>0</th>\n",
       "      <td>2020-04-01 00:00:00</td>\n",
       "      <td>Pooja</td>\n",
       "      <td>NaN</td>\n",
       "      <td>7500</td>\n",
       "      <td>7500</td>\n",
       "      <td>0</td>\n",
       "    </tr>\n",
       "    <tr>\n",
       "      <th>1</th>\n",
       "      <td>2020-04-01 00:00:00</td>\n",
       "      <td>Deepak</td>\n",
       "      <td>NaN</td>\n",
       "      <td>8550</td>\n",
       "      <td>8550</td>\n",
       "      <td>0</td>\n",
       "    </tr>\n",
       "    <tr>\n",
       "      <th>2</th>\n",
       "      <td>2020-04-01 00:00:00</td>\n",
       "      <td>Pooja</td>\n",
       "      <td>NaN</td>\n",
       "      <td>6750</td>\n",
       "      <td>6750</td>\n",
       "      <td>0</td>\n",
       "    </tr>\n",
       "    <tr>\n",
       "      <th>3</th>\n",
       "      <td>2020-04-01 00:00:00</td>\n",
       "      <td>Deepak</td>\n",
       "      <td>NaN</td>\n",
       "      <td>8550</td>\n",
       "      <td>8550</td>\n",
       "      <td>0</td>\n",
       "    </tr>\n",
       "    <tr>\n",
       "      <th>4</th>\n",
       "      <td>2020-04-01 00:00:00</td>\n",
       "      <td>Deepak</td>\n",
       "      <td>NaN</td>\n",
       "      <td>5000</td>\n",
       "      <td>5000</td>\n",
       "      <td>0</td>\n",
       "    </tr>\n",
       "  </tbody>\n",
       "</table>\n",
       "</div>"
      ],
      "text/plain": [
       "0                Month   Owner Course Name Fees Received Fees Total  \\\n",
       "0  2020-04-01 00:00:00   Pooja         NaN          7500       7500   \n",
       "1  2020-04-01 00:00:00  Deepak         NaN          8550       8550   \n",
       "2  2020-04-01 00:00:00   Pooja         NaN          6750       6750   \n",
       "3  2020-04-01 00:00:00  Deepak         NaN          8550       8550   \n",
       "4  2020-04-01 00:00:00  Deepak         NaN          5000       5000   \n",
       "\n",
       "0 Fees Pending  \n",
       "0            0  \n",
       "1            0  \n",
       "2            0  \n",
       "3            0  \n",
       "4            0  "
      ]
     },
     "execution_count": 5,
     "metadata": {},
     "output_type": "execute_result"
    }
   ],
   "source": [
    "#Giving the column name\n",
    "headers = df.iloc[0]\n",
    "new_df  = pd.DataFrame(df.values[1:], columns=headers)\n",
    "new_df.head()"
   ]
  },
  {
   "cell_type": "code",
   "execution_count": 6,
   "id": "cda674f3",
   "metadata": {
    "scrolled": true
   },
   "outputs": [
    {
     "name": "stdout",
     "output_type": "stream",
     "text": [
      "No of Nan values in our dataframe :  6\n"
     ]
    }
   ],
   "source": [
    "print(\"No of Nan values in our dataframe : \", sum(new_df.isnull().any()))"
   ]
  },
  {
   "cell_type": "code",
   "execution_count": 7,
   "id": "60481007",
   "metadata": {
    "scrolled": true
   },
   "outputs": [
    {
     "data": {
      "text/plain": [
       "0\n",
       "Month            object\n",
       "Owner            object\n",
       "Course Name      object\n",
       "Fees Received    object\n",
       "Fees Total       object\n",
       "Fees Pending     object\n",
       "dtype: object"
      ]
     },
     "execution_count": 7,
     "metadata": {},
     "output_type": "execute_result"
    }
   ],
   "source": [
    "new_df.dtypes"
   ]
  },
  {
   "cell_type": "code",
   "execution_count": 8,
   "id": "589f1a73",
   "metadata": {},
   "outputs": [
    {
     "data": {
      "text/plain": [
       "0\n",
       "Month            100\n",
       "Owner            158\n",
       "Course Name      397\n",
       "Fees Received    151\n",
       "Fees Total       158\n",
       "Fees Pending     205\n",
       "dtype: int64"
      ]
     },
     "execution_count": 8,
     "metadata": {},
     "output_type": "execute_result"
    }
   ],
   "source": [
    "new_df.isnull().sum()"
   ]
  },
  {
   "cell_type": "code",
   "execution_count": 9,
   "id": "4cff2981",
   "metadata": {},
   "outputs": [
    {
     "name": "stdout",
     "output_type": "stream",
     "text": [
      "No of Nan values in our dataframe :  6\n"
     ]
    }
   ],
   "source": [
    "print(\"No of Nan values in our dataframe : \", sum(new_df.isnull().any()))"
   ]
  },
  {
   "cell_type": "code",
   "execution_count": 10,
   "id": "040ba9b0",
   "metadata": {},
   "outputs": [],
   "source": [
    "new_data=new_df.dropna()"
   ]
  },
  {
   "cell_type": "code",
   "execution_count": 11,
   "id": "1fb6ebe2",
   "metadata": {},
   "outputs": [
    {
     "data": {
      "text/html": [
       "<div>\n",
       "<style scoped>\n",
       "    .dataframe tbody tr th:only-of-type {\n",
       "        vertical-align: middle;\n",
       "    }\n",
       "\n",
       "    .dataframe tbody tr th {\n",
       "        vertical-align: top;\n",
       "    }\n",
       "\n",
       "    .dataframe thead th {\n",
       "        text-align: right;\n",
       "    }\n",
       "</style>\n",
       "<table border=\"1\" class=\"dataframe\">\n",
       "  <thead>\n",
       "    <tr style=\"text-align: right;\">\n",
       "      <th></th>\n",
       "      <th>Month</th>\n",
       "      <th>Owner</th>\n",
       "      <th>Course Name</th>\n",
       "      <th>Fees Received</th>\n",
       "      <th>Fees Total</th>\n",
       "      <th>Fees Pending</th>\n",
       "    </tr>\n",
       "  </thead>\n",
       "  <tbody>\n",
       "    <tr>\n",
       "      <th>52</th>\n",
       "      <td>Month</td>\n",
       "      <td>Owner</td>\n",
       "      <td>Certifiacte Print Status</td>\n",
       "      <td>Fees Received</td>\n",
       "      <td>Fees Total</td>\n",
       "      <td>Fees Pending</td>\n",
       "    </tr>\n",
       "    <tr>\n",
       "      <th>108</th>\n",
       "      <td>Month</td>\n",
       "      <td>Owner</td>\n",
       "      <td>Designation</td>\n",
       "      <td>Fees Received</td>\n",
       "      <td>Fees Total</td>\n",
       "      <td>Fees Pending</td>\n",
       "    </tr>\n",
       "    <tr>\n",
       "      <th>109</th>\n",
       "      <td>2020-06-01 00:00:00</td>\n",
       "      <td>Deepak</td>\n",
       "      <td>Nill</td>\n",
       "      <td>8550</td>\n",
       "      <td>8550</td>\n",
       "      <td>0</td>\n",
       "    </tr>\n",
       "    <tr>\n",
       "      <th>111</th>\n",
       "      <td>2020-06-01 00:00:00</td>\n",
       "      <td>Deepak</td>\n",
       "      <td>Executive Manager</td>\n",
       "      <td>15000</td>\n",
       "      <td>15000</td>\n",
       "      <td>0</td>\n",
       "    </tr>\n",
       "    <tr>\n",
       "      <th>112</th>\n",
       "      <td>2020-06-01 00:00:00</td>\n",
       "      <td>Pooja</td>\n",
       "      <td>Na</td>\n",
       "      <td>7600</td>\n",
       "      <td>7600</td>\n",
       "      <td>0</td>\n",
       "    </tr>\n",
       "  </tbody>\n",
       "</table>\n",
       "</div>"
      ],
      "text/plain": [
       "0                  Month   Owner               Course Name  Fees Received  \\\n",
       "52                 Month   Owner  Certifiacte Print Status  Fees Received   \n",
       "108                Month   Owner               Designation  Fees Received   \n",
       "109  2020-06-01 00:00:00  Deepak                      Nill           8550   \n",
       "111  2020-06-01 00:00:00  Deepak         Executive Manager          15000   \n",
       "112  2020-06-01 00:00:00   Pooja                        Na           7600   \n",
       "\n",
       "0    Fees Total  Fees Pending  \n",
       "52   Fees Total  Fees Pending  \n",
       "108  Fees Total  Fees Pending  \n",
       "109        8550             0  \n",
       "111       15000             0  \n",
       "112        7600             0  "
      ]
     },
     "execution_count": 11,
     "metadata": {},
     "output_type": "execute_result"
    }
   ],
   "source": [
    "new_data.head()"
   ]
  },
  {
   "cell_type": "code",
   "execution_count": 12,
   "id": "5d9a40d4",
   "metadata": {},
   "outputs": [
    {
     "name": "stdout",
     "output_type": "stream",
     "text": [
      "No of Nan values in our dataframe :  0\n"
     ]
    }
   ],
   "source": [
    "print(\"No of Nan values in our dataframe : \", sum(new_data.isnull().any()))"
   ]
  },
  {
   "cell_type": "code",
   "execution_count": 13,
   "id": "d21cc2e7",
   "metadata": {},
   "outputs": [],
   "source": [
    "import missingno as msno"
   ]
  },
  {
   "cell_type": "code",
   "execution_count": 14,
   "id": "c570470a",
   "metadata": {},
   "outputs": [
    {
     "data": {
      "text/plain": [
       "<AxesSubplot:>"
      ]
     },
     "execution_count": 14,
     "metadata": {},
     "output_type": "execute_result"
    },
    {
     "data": {
      "image/png": "[encoded data removed]",
      "text/plain": [
       "<Figure size 1800x720 with 2 Axes>"
      ]
     },
     "metadata": {
      "needs_background": "light"
     },
     "output_type": "display_data"
    }
   ],
   "source": [
    "# Visualize missing values as a matrix\n",
    "msno.matrix(new_data)"
   ]
  },
  {
   "cell_type": "code",
   "execution_count": 15,
   "id": "689f49ed",
   "metadata": {},
   "outputs": [
    {
     "data": {
      "text/plain": [
       "(853, 6)"
      ]
     },
     "execution_count": 15,
     "metadata": {},
     "output_type": "execute_result"
    }
   ],
   "source": [
    "new_data.shape"
   ]
  },
  {
   "cell_type": "code",
   "execution_count": 16,
   "id": "560ca86c",
   "metadata": {},
   "outputs": [
    {
     "name": "stderr",
     "output_type": "stream",
     "text": [
      "C:\\Users\\Saurabh\\anaconda3\\lib\\site-packages\\seaborn\\matrix.py:301: UserWarning: Attempting to set identical left == right == 0 results in singular transformations; automatically expanding.\n",
      "  ax.set(xlim=(0, self.data.shape[1]), ylim=(0, self.data.shape[0]))\n",
      "C:\\Users\\Saurabh\\anaconda3\\lib\\site-packages\\seaborn\\matrix.py:301: UserWarning: Attempting to set identical bottom == top == 0 results in singular transformations; automatically expanding.\n",
      "  ax.set(xlim=(0, self.data.shape[1]), ylim=(0, self.data.shape[0]))\n"
     ]
    },
    {
     "data": {
      "text/plain": [
       "<AxesSubplot:>"
      ]
     },
     "execution_count": 16,
     "metadata": {},
     "output_type": "execute_result"
    },
    {
     "data": {
      "image/png": "[encoded data removed]",
      "text/plain": [
       "<Figure size 1440x864 with 2 Axes>"
      ]
     },
     "metadata": {
      "needs_background": "light"
     },
     "output_type": "display_data"
    }
   ],
   "source": [
    "msno.heatmap(new_data)"
   ]
  },
  {
   "cell_type": "code",
   "execution_count": 17,
   "id": "77f0eaa2",
   "metadata": {},
   "outputs": [
    {
     "name": "stdout",
     "output_type": "stream",
     "text": [
      "['Month' 'Owner' 'Course Name' 'Fees Received' 'Fees Total' 'Fees Pending']\n"
     ]
    }
   ],
   "source": [
    "print(new_data.columns.values)"
   ]
  },
  {
   "cell_type": "code",
   "execution_count": 18,
   "id": "fe0b8354",
   "metadata": {},
   "outputs": [
    {
     "name": "stdout",
     "output_type": "stream",
     "text": [
      "Number of duplicate rows in dataset = 189\n"
     ]
    }
   ],
   "source": [
    "#Removing Duplicates\n",
    "dup_bool = new_data.duplicated(['Month' ,'Owner', 'Course Name' ,'Fees Received', 'Fees Total' ,'Fees Pending'])\n",
    "dups = sum(dup_bool) # by considering all columns.\n",
    "print(\"Number of duplicate rows in dataset = {}\".format(dups))"
   ]
  },
  {
   "cell_type": "code",
   "execution_count": 19,
   "id": "ad8f9239",
   "metadata": {},
   "outputs": [
    {
     "name": "stderr",
     "output_type": "stream",
     "text": [
      "<ipython-input-19-f4147f4e496b>:1: SettingWithCopyWarning: \n",
      "A value is trying to be set on a copy of a slice from a DataFrame\n",
      "\n",
      "See the caveats in the documentation: https://pandas.pydata.org/pandas-docs/stable/user_guide/indexing.html#returning-a-view-versus-a-copy\n",
      "  new_data.drop_duplicates(keep=False,inplace=True)\n"
     ]
    }
   ],
   "source": [
    "new_data.drop_duplicates(keep=False,inplace=True)"
   ]
  },
  {
   "cell_type": "code",
   "execution_count": 20,
   "id": "6165ce28",
   "metadata": {},
   "outputs": [
    {
     "name": "stdout",
     "output_type": "stream",
     "text": [
      "Number of duplicate rows in dataset = 0\n"
     ]
    }
   ],
   "source": [
    "#Removing Duplicates\n",
    "dup_bool = new_data.duplicated(['Month' ,'Owner', 'Course Name' ,'Fees Received', 'Fees Total' ,'Fees Pending'])\n",
    "dups = sum(dup_bool) # by considering all columns.\n",
    "print(\"Number of duplicate rows in dataset = {}\".format(dups))"
   ]
  },
  {
   "cell_type": "code",
   "execution_count": 21,
   "id": "8675ff5b",
   "metadata": {
    "scrolled": true
   },
   "outputs": [
    {
     "data": {
      "text/html": [
       "<div>\n",
       "<style scoped>\n",
       "    .dataframe tbody tr th:only-of-type {\n",
       "        vertical-align: middle;\n",
       "    }\n",
       "\n",
       "    .dataframe tbody tr th {\n",
       "        vertical-align: top;\n",
       "    }\n",
       "\n",
       "    .dataframe thead th {\n",
       "        text-align: right;\n",
       "    }\n",
       "</style>\n",
       "<table border=\"1\" class=\"dataframe\">\n",
       "  <thead>\n",
       "    <tr style=\"text-align: right;\">\n",
       "      <th></th>\n",
       "      <th>Month</th>\n",
       "      <th>Owner</th>\n",
       "      <th>Course Name</th>\n",
       "      <th>Fees Received</th>\n",
       "      <th>Fees Total</th>\n",
       "      <th>Fees Pending</th>\n",
       "    </tr>\n",
       "  </thead>\n",
       "  <tbody>\n",
       "    <tr>\n",
       "      <th>52</th>\n",
       "      <td>Month</td>\n",
       "      <td>Owner</td>\n",
       "      <td>Certifiacte Print Status</td>\n",
       "      <td>Fees Received</td>\n",
       "      <td>Fees Total</td>\n",
       "      <td>Fees Pending</td>\n",
       "    </tr>\n",
       "    <tr>\n",
       "      <th>109</th>\n",
       "      <td>2020-06-01 00:00:00</td>\n",
       "      <td>Deepak</td>\n",
       "      <td>Nill</td>\n",
       "      <td>8550</td>\n",
       "      <td>8550</td>\n",
       "      <td>0</td>\n",
       "    </tr>\n",
       "    <tr>\n",
       "      <th>111</th>\n",
       "      <td>2020-06-01 00:00:00</td>\n",
       "      <td>Deepak</td>\n",
       "      <td>Executive Manager</td>\n",
       "      <td>15000</td>\n",
       "      <td>15000</td>\n",
       "      <td>0</td>\n",
       "    </tr>\n",
       "    <tr>\n",
       "      <th>112</th>\n",
       "      <td>2020-06-01 00:00:00</td>\n",
       "      <td>Pooja</td>\n",
       "      <td>Na</td>\n",
       "      <td>7600</td>\n",
       "      <td>7600</td>\n",
       "      <td>0</td>\n",
       "    </tr>\n",
       "    <tr>\n",
       "      <th>113</th>\n",
       "      <td>2020-06-01 00:00:00</td>\n",
       "      <td>Deepak</td>\n",
       "      <td>Assistant</td>\n",
       "      <td>7500</td>\n",
       "      <td>7500</td>\n",
       "      <td>0</td>\n",
       "    </tr>\n",
       "  </tbody>\n",
       "</table>\n",
       "</div>"
      ],
      "text/plain": [
       "0                  Month   Owner               Course Name  Fees Received  \\\n",
       "52                 Month   Owner  Certifiacte Print Status  Fees Received   \n",
       "109  2020-06-01 00:00:00  Deepak                      Nill           8550   \n",
       "111  2020-06-01 00:00:00  Deepak         Executive Manager          15000   \n",
       "112  2020-06-01 00:00:00   Pooja                        Na           7600   \n",
       "113  2020-06-01 00:00:00  Deepak                 Assistant           7500   \n",
       "\n",
       "0    Fees Total  Fees Pending  \n",
       "52   Fees Total  Fees Pending  \n",
       "109        8550             0  \n",
       "111       15000             0  \n",
       "112        7600             0  \n",
       "113        7500             0  "
      ]
     },
     "execution_count": 21,
     "metadata": {},
     "output_type": "execute_result"
    }
   ],
   "source": [
    "new_data.head()"
   ]
  },
  {
   "cell_type": "code",
   "execution_count": 22,
   "id": "af1cd5f9",
   "metadata": {
    "scrolled": true
   },
   "outputs": [
    {
     "data": {
      "text/html": [
       "<div>\n",
       "<style scoped>\n",
       "    .dataframe tbody tr th:only-of-type {\n",
       "        vertical-align: middle;\n",
       "    }\n",
       "\n",
       "    .dataframe tbody tr th {\n",
       "        vertical-align: top;\n",
       "    }\n",
       "\n",
       "    .dataframe thead th {\n",
       "        text-align: right;\n",
       "    }\n",
       "</style>\n",
       "<table border=\"1\" class=\"dataframe\">\n",
       "  <thead>\n",
       "    <tr style=\"text-align: right;\">\n",
       "      <th></th>\n",
       "      <th>Month</th>\n",
       "      <th>Owner</th>\n",
       "      <th>Course Name</th>\n",
       "      <th>Fees Received</th>\n",
       "      <th>Fees Total</th>\n",
       "      <th>Fees Pending</th>\n",
       "    </tr>\n",
       "  </thead>\n",
       "  <tbody>\n",
       "    <tr>\n",
       "      <th>count</th>\n",
       "      <td>555</td>\n",
       "      <td>555</td>\n",
       "      <td>555</td>\n",
       "      <td>555</td>\n",
       "      <td>555</td>\n",
       "      <td>555</td>\n",
       "    </tr>\n",
       "    <tr>\n",
       "      <th>unique</th>\n",
       "      <td>15</td>\n",
       "      <td>27</td>\n",
       "      <td>133</td>\n",
       "      <td>135</td>\n",
       "      <td>127</td>\n",
       "      <td>49</td>\n",
       "    </tr>\n",
       "    <tr>\n",
       "      <th>top</th>\n",
       "      <td>2021-06-01 00:00:00</td>\n",
       "      <td>Deepak</td>\n",
       "      <td>GST</td>\n",
       "      <td>7500</td>\n",
       "      <td>7500</td>\n",
       "      <td>0</td>\n",
       "    </tr>\n",
       "    <tr>\n",
       "      <th>freq</th>\n",
       "      <td>99</td>\n",
       "      <td>118</td>\n",
       "      <td>106</td>\n",
       "      <td>34</td>\n",
       "      <td>34</td>\n",
       "      <td>497</td>\n",
       "    </tr>\n",
       "  </tbody>\n",
       "</table>\n",
       "</div>"
      ],
      "text/plain": [
       "0                     Month   Owner Course Name  Fees Received  Fees Total  \\\n",
       "count                   555     555         555            555         555   \n",
       "unique                   15      27         133            135         127   \n",
       "top     2021-06-01 00:00:00  Deepak         GST           7500        7500   \n",
       "freq                     99     118         106             34          34   \n",
       "\n",
       "0       Fees Pending  \n",
       "count            555  \n",
       "unique            49  \n",
       "top                0  \n",
       "freq             497  "
      ]
     },
     "execution_count": 22,
     "metadata": {},
     "output_type": "execute_result"
    }
   ],
   "source": [
    "new_data.describe(include=\"all\")"
   ]
  },
  {
   "cell_type": "code",
   "execution_count": 23,
   "id": "bf019fb3",
   "metadata": {},
   "outputs": [
    {
     "name": "stdout",
     "output_type": "stream",
     "text": [
      "<class 'pandas.core.frame.DataFrame'>\n",
      "Int64Index: 555 entries, 52 to 1285\n",
      "Data columns (total 6 columns):\n",
      " #   Column         Non-Null Count  Dtype \n",
      "---  ------         --------------  ----- \n",
      " 0   Month          555 non-null    object\n",
      " 1   Owner          555 non-null    object\n",
      " 2   Course Name    555 non-null    object\n",
      " 3   Fees Received  555 non-null    object\n",
      " 4   Fees Total     555 non-null    object\n",
      " 5   Fees Pending   555 non-null    object\n",
      "dtypes: object(6)\n",
      "memory usage: 30.4+ KB\n",
      "None\n"
     ]
    }
   ],
   "source": [
    "#Checking for the NaN values.\n",
    "print(new_data.info())"
   ]
  },
  {
   "cell_type": "code",
   "execution_count": 24,
   "id": "e229ac50",
   "metadata": {},
   "outputs": [
    {
     "data": {
      "text/plain": [
       "0\n",
       "Month            object\n",
       "Owner            object\n",
       "Course Name      object\n",
       "Fees Received    object\n",
       "Fees Total       object\n",
       "Fees Pending     object\n",
       "dtype: object"
      ]
     },
     "execution_count": 24,
     "metadata": {},
     "output_type": "execute_result"
    }
   ],
   "source": [
    "new_data.dtypes"
   ]
  },
  {
   "cell_type": "code",
   "execution_count": 25,
   "id": "c1985a0b",
   "metadata": {},
   "outputs": [],
   "source": [
    "data=new_data.set_index('Month').copy()"
   ]
  },
  {
   "cell_type": "code",
   "execution_count": 64,
   "id": "808de052",
   "metadata": {},
   "outputs": [],
   "source": [
    "data.to_csv('GST.csv')"
   ]
  },
  {
   "cell_type": "code",
   "execution_count": 26,
   "id": "f438d3d3",
   "metadata": {
    "scrolled": false
   },
   "outputs": [
    {
     "data": {
      "text/html": [
       "<div>\n",
       "<style scoped>\n",
       "    .dataframe tbody tr th:only-of-type {\n",
       "        vertical-align: middle;\n",
       "    }\n",
       "\n",
       "    .dataframe tbody tr th {\n",
       "        vertical-align: top;\n",
       "    }\n",
       "\n",
       "    .dataframe thead th {\n",
       "        text-align: right;\n",
       "    }\n",
       "</style>\n",
       "<table border=\"1\" class=\"dataframe\">\n",
       "  <thead>\n",
       "    <tr style=\"text-align: right;\">\n",
       "      <th></th>\n",
       "      <th>Owner</th>\n",
       "      <th>Course Name</th>\n",
       "      <th>Fees Received</th>\n",
       "      <th>Fees Total</th>\n",
       "      <th>Fees Pending</th>\n",
       "    </tr>\n",
       "    <tr>\n",
       "      <th>Month</th>\n",
       "      <th></th>\n",
       "      <th></th>\n",
       "      <th></th>\n",
       "      <th></th>\n",
       "      <th></th>\n",
       "    </tr>\n",
       "  </thead>\n",
       "  <tbody>\n",
       "    <tr>\n",
       "      <th>Month</th>\n",
       "      <td>Owner</td>\n",
       "      <td>Certifiacte Print Status</td>\n",
       "      <td>Fees Received</td>\n",
       "      <td>Fees Total</td>\n",
       "      <td>Fees Pending</td>\n",
       "    </tr>\n",
       "    <tr>\n",
       "      <th>2020-06-01 00:00:00</th>\n",
       "      <td>Deepak</td>\n",
       "      <td>Nill</td>\n",
       "      <td>8550</td>\n",
       "      <td>8550</td>\n",
       "      <td>0</td>\n",
       "    </tr>\n",
       "    <tr>\n",
       "      <th>2020-06-01 00:00:00</th>\n",
       "      <td>Deepak</td>\n",
       "      <td>Executive Manager</td>\n",
       "      <td>15000</td>\n",
       "      <td>15000</td>\n",
       "      <td>0</td>\n",
       "    </tr>\n",
       "    <tr>\n",
       "      <th>2020-06-01 00:00:00</th>\n",
       "      <td>Pooja</td>\n",
       "      <td>Na</td>\n",
       "      <td>7600</td>\n",
       "      <td>7600</td>\n",
       "      <td>0</td>\n",
       "    </tr>\n",
       "    <tr>\n",
       "      <th>2020-06-01 00:00:00</th>\n",
       "      <td>Deepak</td>\n",
       "      <td>Assistant</td>\n",
       "      <td>7500</td>\n",
       "      <td>7500</td>\n",
       "      <td>0</td>\n",
       "    </tr>\n",
       "  </tbody>\n",
       "</table>\n",
       "</div>"
      ],
      "text/plain": [
       "0                     Owner               Course Name  Fees Received  \\\n",
       "Month                                                                  \n",
       "Month                 Owner  Certifiacte Print Status  Fees Received   \n",
       "2020-06-01 00:00:00  Deepak                      Nill           8550   \n",
       "2020-06-01 00:00:00  Deepak         Executive Manager          15000   \n",
       "2020-06-01 00:00:00   Pooja                        Na           7600   \n",
       "2020-06-01 00:00:00  Deepak                 Assistant           7500   \n",
       "\n",
       "0                    Fees Total  Fees Pending  \n",
       "Month                                          \n",
       "Month                Fees Total  Fees Pending  \n",
       "2020-06-01 00:00:00        8550             0  \n",
       "2020-06-01 00:00:00       15000             0  \n",
       "2020-06-01 00:00:00        7600             0  \n",
       "2020-06-01 00:00:00        7500             0  "
      ]
     },
     "execution_count": 26,
     "metadata": {},
     "output_type": "execute_result"
    }
   ],
   "source": [
    "data.head()"
   ]
  },
  {
   "cell_type": "code",
   "execution_count": 27,
   "id": "24b2607d",
   "metadata": {},
   "outputs": [
    {
     "data": {
      "text/plain": [
       "0\n",
       "Owner            object\n",
       "Course Name      object\n",
       "Fees Received    object\n",
       "Fees Total       object\n",
       "Fees Pending     object\n",
       "dtype: object"
      ]
     },
     "execution_count": 27,
     "metadata": {},
     "output_type": "execute_result"
    }
   ],
   "source": [
    "data.dtypes"
   ]
  },
  {
   "cell_type": "code",
   "execution_count": 28,
   "id": "e1d6e547",
   "metadata": {},
   "outputs": [
    {
     "name": "stdout",
     "output_type": "stream",
     "text": [
      "['Owner' 'Deepak' 'Pooja' 'Vibhati' 'Anam' 'Vikas' 'Akansha' 'Poonam'\n",
      " 'Faiza' 'Sunita' 'Mushir' 'Shanno' 'Tinki' 'Kamal' 'Parminder' 'Anjali'\n",
      " 'Varsha' 'Danish' 'APOORVA' 'Sharoon' 'Arya' 'Deepak Arya' 'Jyoti'\n",
      " 'Urvashi' 'Diwakar' 'sharoon' 'Ajay']\n",
      "\n",
      "\n",
      "['Certifiacte Print Status' 'Nill' 'Executive Manager' 'Na' 'Assistant'\n",
      " 'CA' 'Accounts Payable' 'ASSISTANT Coissioner commercial Taxes' 'na'\n",
      " 'DEPUTY MANAGER' 'Account Executive' 'Commercial Officer'\n",
      " 'Tax consultant' 'Assistant Professor' 'Credit Manager' 'nill'\n",
      " 'HEAD FINANCE' 'proprite' 'Accounts and HR' 'MD' 'Sr. Director-Finance'\n",
      " '25/10/2020' datetime.datetime(2020, 3, 10, 0, 0)\n",
      " datetime.datetime(2020, 11, 10, 0, 0) '17/10/2020' 'GST' 'INCOMETAX'\n",
      " 'COMBO' 'income tax' 'gst' 'combo' 'EXCEL' 'excel' 'gst and income tax'\n",
      " 'GST and income ta' 'gst and income ta' 'Income tax' 'gst and it' 'IT'\n",
      " 'catp 2 modules kiya h isne' 'CATP' 'GST + income tax' 'SAP' 'Sap' 'catp'\n",
      " 'advance excel' 'Sap And Fico' 'Income Tax' 'GST & INCOMETAX'\n",
      " 'GST  AND INCOME TAX' 'HR PAYROLL' 'SAP and FICO' 'sap and ficco'\n",
      " 'INCOME TAX' 'Hr Payroll' 'SAP-FICO & ADV. EXCEL' 'GST AND InCOME TAX'\n",
      " 'GST and SAP FICO' 'Hr Payrooll' 'SAP Fico' 'SAP-FICO'\n",
      " 'GST and Income Tax' 'GST & IT & TELLY' 'GST &IT' 'GST & SAP'\n",
      " 'HR Payroll' 'HR payroll' 'GST + IT self paced' 'SAP FICCO'\n",
      " 'gst AND iNOME tAX' 'Excel' 'PG' 'SAP FICO' 'SAP FICO catp self paced'\n",
      " 'GST/IT' 'Advance Excel' 'Technical writting' 'PG GST' 'GST Self Paced'\n",
      " 'SAP-FICO & Advance Excel' 'sap-fico' 'GST & IT' 'catp self'\n",
      " 'advance Tally' 'PG CATP' 'GST and Income TAX' 'SAP MM'\n",
      " 'Financial Statement' 'tally' 'SAP HR' 'CTA + SAP FICO'\n",
      " 'GST and INcome TAX' 'SAP HR + HR Payroll SP' 'RPA - UiPath' 'Tally'\n",
      " 'SSGB' 'CDS-P' 'Sap Fico+Financial Statement' 'Advance Excel+Sap Fico'\n",
      " 'successfactor' 'HR GERNALIST' 'SAP FICO + 2 Electives' 'RPA - AA'\n",
      " 'six sigma greenbelt' 'SAP MM + Lean PR.' 'SAP MM + Ad. Excel'\n",
      " 'Copywriting' 'GST and INcome TAX  and  financial analytics python'\n",
      " 'SAP FICO + Excel + FSA' 'sap fico' 'SAP MM + 2 electives'\n",
      " 'income tax  self pace' 'HR Payroll and selfpaced excel' 'SAP MM + 2 EC'\n",
      " 'SAP MM+Soft Skill development Selfpaced' 'SAP SD' 'HR Gernalist' 'IFRS'\n",
      " 'SSBB' 'PG Data Science' 'GST and tally self paced'\n",
      " 'gst and tally self paced' 'CATP and financial analytics python'\n",
      " 'Sap fico internship' 'SAP ABAP' 'sap pp' 'SAP FICO + Simple finance'\n",
      " 'SAP-ABAP' 'SAP BO' 'Advanced Excel' 'GST self paced' 'GST+ Income tax'\n",
      " 'SAP Success Factor']\n",
      "\n",
      "\n",
      "['Fees Received' 8550 15000 7600 7500 9500 17000 11400 2200 5000 7000 8500\n",
      " 4000 6000 8000 4500 3000 7550 13500 12000 3500 5500 1500 25000 1000 3750\n",
      " 10000 19000 15950 9000 6500 11000 4550 2550 16800 3550 9200 27000 24000\n",
      " 11500 16000 4600 8400 7475 5750 6900 10350 18000 2000 20000 28400 6650\n",
      " 8600 22000 15750 25200 6750 30000 23600 11800 35100 20650 33453 13000\n",
      " 37277 23500 5350 12500 48084 8750 17500 11250 19500 6375 24150 22425\n",
      " 25427 40000 25300 29500 31050 12075 14750 24375 8075 9375 29325 20250\n",
      " 27750 22125 18400 21000 22500 14000 16875 47200 41300 19125 26550 34500\n",
      " 6225 20750 24840 7875 40875 6250 27600 14250 8125 29000 10625 23550 25075\n",
      " 5175 17700 2500 13075 23650 26500 17550 25875 13650 15500 45000 14200\n",
      " 15650 38350 20450 4887 8300 12625 26650 20600 8900 27200]\n",
      "\n",
      "\n",
      "['Fees Total' 8550 15000 7600 7500 9500 17000 11400 2200 5000 7000 8500\n",
      " 4000 6000 8000 4500 3000 7550 13500 12000 3500 5500 1500 25000 3750 10000\n",
      " 19000 15950 9000 6500 11000 4550 2550 16800 3550 9200 27000 24000 11500\n",
      " 4600 7475 5750 6900 10350 18000 16000 20000 28400 6650 8600 22000 15750\n",
      " 25200 6750 30000 23600 11800 35100 20650 33453 13000 37277 23500 5350\n",
      " 12500 48084 8750 17500 11250 19500 6375 24150 22425 53100 25427 40000\n",
      " 41300 29500 31050 23150 14750 24375 8075 9375 29325 20250 27750 22125\n",
      " 27600 21000 22500 14000 16875 47200 19125 26550 34500 6225 20750 24840\n",
      " 7875 40875 6250 15500 14250 8125 29000 10625 23650 25075 20350 17700\n",
      " 26500 17550 25875 13650 75000 14200 5175 15650 38350 20450 9775 8300\n",
      " 26650 20600 27200]\n",
      "\n",
      "\n",
      "['Fees Pending' 0 'o' 4000 3750 9800 800 10000 8400 4500 5000 4200 6800\n",
      " 15000 12000 8500 11800 21000 16000 19000 48100 11075 9200 13500 9000\n",
      " 42200 13050 20600 23600 14500 19500 100 22600 19650 17650 17350 5175\n",
      " 17000 24500 30000 27200 6500 15650 17125 4888 7625 7975 10650 18600]\n",
      "\n",
      "\n"
     ]
    }
   ],
   "source": [
    "for i in data.columns:\n",
    "    print(data[i].unique())\n",
    "    print(\"\\n\")"
   ]
  },
  {
   "cell_type": "code",
   "execution_count": 29,
   "id": "44737856",
   "metadata": {},
   "outputs": [],
   "source": [
    "data['Course Name'].replace({\"Fees Total\": \"0\", \"Fees Pending\": \"0\", \"Certifiacte Print Status\":\"0\",\"Fees Received\":\"0\",\"Owner\":\"0\",\"Month\":\"0\"}, inplace=True)\n",
    "data['Fees Received'].replace({\"Fees Total\": \"0\", \"Fees Pending\": \"0\", \"Certifiacte Print Status\":\"0\",\"Fees Received\":\"0\",\"Owner\":\"0\",\"Month\":\"0\"}, inplace=True)\n",
    "data['Fees Pending'].replace({\"Fees Total\": \"0\", \"Fees Pending\": \"0\", \"Certifiacte Print Status\":\"0\",\"Fees Received\":\"0\",\"Owner\":\"0\",\"Month\":\"0\"}, inplace=True)\n",
    "data['Owner'].replace({\"Fees Total\": \"0\", \"Fees Pending\": \"0\", \"Certifiacte Print Status\":\"0\",\"Fees Received\":\"0\",\"Owner\":\"0\",\"Month\":\"0\"}, inplace=True)\n",
    "data['Fees Total'].replace({\"Fees Total\": \"0\", \"Fees Pending\": \"0\", \"Certifiacte Print Status\":\"0\",\"Fees Received\":\"0\",\"Owner\":\"0\",\"Month\":\"0\"}, inplace=True)"
   ]
  },
  {
   "cell_type": "code",
   "execution_count": 30,
   "id": "21d6878b",
   "metadata": {},
   "outputs": [
    {
     "data": {
      "text/html": [
       "<div>\n",
       "<style scoped>\n",
       "    .dataframe tbody tr th:only-of-type {\n",
       "        vertical-align: middle;\n",
       "    }\n",
       "\n",
       "    .dataframe tbody tr th {\n",
       "        vertical-align: top;\n",
       "    }\n",
       "\n",
       "    .dataframe thead th {\n",
       "        text-align: right;\n",
       "    }\n",
       "</style>\n",
       "<table border=\"1\" class=\"dataframe\">\n",
       "  <thead>\n",
       "    <tr style=\"text-align: right;\">\n",
       "      <th></th>\n",
       "      <th>Owner</th>\n",
       "      <th>Course Name</th>\n",
       "      <th>Fees Received</th>\n",
       "      <th>Fees Total</th>\n",
       "      <th>Fees Pending</th>\n",
       "    </tr>\n",
       "    <tr>\n",
       "      <th>Month</th>\n",
       "      <th></th>\n",
       "      <th></th>\n",
       "      <th></th>\n",
       "      <th></th>\n",
       "      <th></th>\n",
       "    </tr>\n",
       "  </thead>\n",
       "  <tbody>\n",
       "    <tr>\n",
       "      <th>Month</th>\n",
       "      <td>0</td>\n",
       "      <td>0</td>\n",
       "      <td>0</td>\n",
       "      <td>0</td>\n",
       "      <td>0</td>\n",
       "    </tr>\n",
       "    <tr>\n",
       "      <th>2020-06-01 00:00:00</th>\n",
       "      <td>Deepak</td>\n",
       "      <td>Nill</td>\n",
       "      <td>8550</td>\n",
       "      <td>8550</td>\n",
       "      <td>0</td>\n",
       "    </tr>\n",
       "    <tr>\n",
       "      <th>2020-06-01 00:00:00</th>\n",
       "      <td>Deepak</td>\n",
       "      <td>Executive Manager</td>\n",
       "      <td>15000</td>\n",
       "      <td>15000</td>\n",
       "      <td>0</td>\n",
       "    </tr>\n",
       "    <tr>\n",
       "      <th>2020-06-01 00:00:00</th>\n",
       "      <td>Pooja</td>\n",
       "      <td>Na</td>\n",
       "      <td>7600</td>\n",
       "      <td>7600</td>\n",
       "      <td>0</td>\n",
       "    </tr>\n",
       "    <tr>\n",
       "      <th>2020-06-01 00:00:00</th>\n",
       "      <td>Deepak</td>\n",
       "      <td>Assistant</td>\n",
       "      <td>7500</td>\n",
       "      <td>7500</td>\n",
       "      <td>0</td>\n",
       "    </tr>\n",
       "  </tbody>\n",
       "</table>\n",
       "</div>"
      ],
      "text/plain": [
       "0                     Owner        Course Name Fees Received Fees Total  \\\n",
       "Month                                                                     \n",
       "Month                     0                  0             0          0   \n",
       "2020-06-01 00:00:00  Deepak               Nill          8550       8550   \n",
       "2020-06-01 00:00:00  Deepak  Executive Manager         15000      15000   \n",
       "2020-06-01 00:00:00   Pooja                 Na          7600       7600   \n",
       "2020-06-01 00:00:00  Deepak          Assistant          7500       7500   \n",
       "\n",
       "0                   Fees Pending  \n",
       "Month                             \n",
       "Month                          0  \n",
       "2020-06-01 00:00:00            0  \n",
       "2020-06-01 00:00:00            0  \n",
       "2020-06-01 00:00:00            0  \n",
       "2020-06-01 00:00:00            0  "
      ]
     },
     "execution_count": 30,
     "metadata": {},
     "output_type": "execute_result"
    }
   ],
   "source": [
    "data.head()"
   ]
  },
  {
   "cell_type": "code",
   "execution_count": 31,
   "id": "997f8da9",
   "metadata": {
    "scrolled": true
   },
   "outputs": [
    {
     "name": "stdout",
     "output_type": "stream",
     "text": [
      "['0' 'Deepak' 'Pooja' 'Vibhati' 'Anam' 'Vikas' 'Akansha' 'Poonam' 'Faiza'\n",
      " 'Sunita' 'Mushir' 'Shanno' 'Tinki' 'Kamal' 'Parminder' 'Anjali' 'Varsha'\n",
      " 'Danish' 'APOORVA' 'Sharoon' 'Arya' 'Deepak Arya' 'Jyoti' 'Urvashi'\n",
      " 'Diwakar' 'sharoon' 'Ajay']\n",
      "\n",
      "\n",
      "['0' 'Nill' 'Executive Manager' 'Na' 'Assistant' 'CA' 'Accounts Payable'\n",
      " 'ASSISTANT Coissioner commercial Taxes' 'na' 'DEPUTY MANAGER'\n",
      " 'Account Executive' 'Commercial Officer' 'Tax consultant'\n",
      " 'Assistant Professor' 'Credit Manager' 'nill' 'HEAD FINANCE' 'proprite'\n",
      " 'Accounts and HR' 'MD' 'Sr. Director-Finance' '25/10/2020'\n",
      " datetime.datetime(2020, 3, 10, 0, 0)\n",
      " datetime.datetime(2020, 11, 10, 0, 0) '17/10/2020' 'GST' 'INCOMETAX'\n",
      " 'COMBO' 'income tax' 'gst' 'combo' 'EXCEL' 'excel' 'gst and income tax'\n",
      " 'GST and income ta' 'gst and income ta' 'Income tax' 'gst and it' 'IT'\n",
      " 'catp 2 modules kiya h isne' 'CATP' 'GST + income tax' 'SAP' 'Sap' 'catp'\n",
      " 'advance excel' 'Sap And Fico' 'Income Tax' 'GST & INCOMETAX'\n",
      " 'GST  AND INCOME TAX' 'HR PAYROLL' 'SAP and FICO' 'sap and ficco'\n",
      " 'INCOME TAX' 'Hr Payroll' 'SAP-FICO & ADV. EXCEL' 'GST AND InCOME TAX'\n",
      " 'GST and SAP FICO' 'Hr Payrooll' 'SAP Fico' 'SAP-FICO'\n",
      " 'GST and Income Tax' 'GST & IT & TELLY' 'GST &IT' 'GST & SAP'\n",
      " 'HR Payroll' 'HR payroll' 'GST + IT self paced' 'SAP FICCO'\n",
      " 'gst AND iNOME tAX' 'Excel' 'PG' 'SAP FICO' 'SAP FICO catp self paced'\n",
      " 'GST/IT' 'Advance Excel' 'Technical writting' 'PG GST' 'GST Self Paced'\n",
      " 'SAP-FICO & Advance Excel' 'sap-fico' 'GST & IT' 'catp self'\n",
      " 'advance Tally' 'PG CATP' 'GST and Income TAX' 'SAP MM'\n",
      " 'Financial Statement' 'tally' 'SAP HR' 'CTA + SAP FICO'\n",
      " 'GST and INcome TAX' 'SAP HR + HR Payroll SP' 'RPA - UiPath' 'Tally'\n",
      " 'SSGB' 'CDS-P' 'Sap Fico+Financial Statement' 'Advance Excel+Sap Fico'\n",
      " 'successfactor' 'HR GERNALIST' 'SAP FICO + 2 Electives' 'RPA - AA'\n",
      " 'six sigma greenbelt' 'SAP MM + Lean PR.' 'SAP MM + Ad. Excel'\n",
      " 'Copywriting' 'GST and INcome TAX  and  financial analytics python'\n",
      " 'SAP FICO + Excel + FSA' 'sap fico' 'SAP MM + 2 electives'\n",
      " 'income tax  self pace' 'HR Payroll and selfpaced excel' 'SAP MM + 2 EC'\n",
      " 'SAP MM+Soft Skill development Selfpaced' 'SAP SD' 'HR Gernalist' 'IFRS'\n",
      " 'SSBB' 'PG Data Science' 'GST and tally self paced'\n",
      " 'gst and tally self paced' 'CATP and financial analytics python'\n",
      " 'Sap fico internship' 'SAP ABAP' 'sap pp' 'SAP FICO + Simple finance'\n",
      " 'SAP-ABAP' 'SAP BO' 'Advanced Excel' 'GST self paced' 'GST+ Income tax'\n",
      " 'SAP Success Factor']\n",
      "\n",
      "\n",
      "['0' 8550 15000 7600 7500 9500 17000 11400 2200 5000 7000 8500 4000 6000\n",
      " 8000 4500 3000 7550 13500 12000 3500 5500 1500 25000 1000 3750 10000\n",
      " 19000 15950 9000 6500 11000 4550 2550 16800 3550 9200 27000 24000 11500\n",
      " 16000 4600 8400 7475 5750 6900 10350 18000 2000 20000 28400 6650 8600\n",
      " 22000 15750 25200 6750 30000 23600 11800 35100 20650 33453 13000 37277\n",
      " 23500 5350 12500 48084 8750 17500 11250 19500 6375 24150 22425 25427\n",
      " 40000 25300 29500 31050 12075 14750 24375 8075 9375 29325 20250 27750\n",
      " 22125 18400 21000 22500 14000 16875 47200 41300 19125 26550 34500 6225\n",
      " 20750 24840 7875 40875 6250 27600 14250 8125 29000 10625 23550 25075 5175\n",
      " 17700 2500 13075 23650 26500 17550 25875 13650 15500 45000 14200 15650\n",
      " 38350 20450 4887 8300 12625 26650 20600 8900 27200]\n",
      "\n",
      "\n",
      "['0' 8550 15000 7600 7500 9500 17000 11400 2200 5000 7000 8500 4000 6000\n",
      " 8000 4500 3000 7550 13500 12000 3500 5500 1500 25000 3750 10000 19000\n",
      " 15950 9000 6500 11000 4550 2550 16800 3550 9200 27000 24000 11500 4600\n",
      " 7475 5750 6900 10350 18000 16000 20000 28400 6650 8600 22000 15750 25200\n",
      " 6750 30000 23600 11800 35100 20650 33453 13000 37277 23500 5350 12500\n",
      " 48084 8750 17500 11250 19500 6375 24150 22425 53100 25427 40000 41300\n",
      " 29500 31050 23150 14750 24375 8075 9375 29325 20250 27750 22125 27600\n",
      " 21000 22500 14000 16875 47200 19125 26550 34500 6225 20750 24840 7875\n",
      " 40875 6250 15500 14250 8125 29000 10625 23650 25075 20350 17700 26500\n",
      " 17550 25875 13650 75000 14200 5175 15650 38350 20450 9775 8300 26650\n",
      " 20600 27200]\n",
      "\n",
      "\n",
      "['0' 0 'o' 4000 3750 9800 800 10000 8400 4500 5000 4200 6800 15000 12000\n",
      " 8500 11800 21000 16000 19000 48100 11075 9200 13500 9000 42200 13050\n",
      " 20600 23600 14500 19500 100 22600 19650 17650 17350 5175 17000 24500\n",
      " 30000 27200 6500 15650 17125 4888 7625 7975 10650 18600]\n",
      "\n",
      "\n"
     ]
    }
   ],
   "source": [
    "for i in data.columns:\n",
    "    print(data[i].unique())\n",
    "    print(\"\\n\")"
   ]
  },
  {
   "cell_type": "code",
   "execution_count": 32,
   "id": "d9161f86",
   "metadata": {},
   "outputs": [
    {
     "data": {
      "text/plain": [
       "(555, 5)"
      ]
     },
     "execution_count": 32,
     "metadata": {},
     "output_type": "execute_result"
    }
   ],
   "source": [
    "data.shape"
   ]
  },
  {
   "cell_type": "code",
   "execution_count": 33,
   "id": "65e9e2cd",
   "metadata": {
    "scrolled": false
   },
   "outputs": [
    {
     "data": {
      "text/html": [
       "<div>\n",
       "<style scoped>\n",
       "    .dataframe tbody tr th:only-of-type {\n",
       "        vertical-align: middle;\n",
       "    }\n",
       "\n",
       "    .dataframe tbody tr th {\n",
       "        vertical-align: top;\n",
       "    }\n",
       "\n",
       "    .dataframe thead th {\n",
       "        text-align: right;\n",
       "    }\n",
       "</style>\n",
       "<table border=\"1\" class=\"dataframe\">\n",
       "  <thead>\n",
       "    <tr style=\"text-align: right;\">\n",
       "      <th></th>\n",
       "      <th>Owner</th>\n",
       "      <th>Course Name</th>\n",
       "      <th>Fees Received</th>\n",
       "      <th>Fees Total</th>\n",
       "      <th>Fees Pending</th>\n",
       "    </tr>\n",
       "    <tr>\n",
       "      <th>Month</th>\n",
       "      <th></th>\n",
       "      <th></th>\n",
       "      <th></th>\n",
       "      <th></th>\n",
       "      <th></th>\n",
       "    </tr>\n",
       "  </thead>\n",
       "  <tbody>\n",
       "    <tr>\n",
       "      <th>Month</th>\n",
       "      <td>0</td>\n",
       "      <td>0</td>\n",
       "      <td>0</td>\n",
       "      <td>0</td>\n",
       "      <td>0</td>\n",
       "    </tr>\n",
       "    <tr>\n",
       "      <th>2020-06-01 00:00:00</th>\n",
       "      <td>Deepak</td>\n",
       "      <td>Nill</td>\n",
       "      <td>8550</td>\n",
       "      <td>8550</td>\n",
       "      <td>0</td>\n",
       "    </tr>\n",
       "    <tr>\n",
       "      <th>2020-06-01 00:00:00</th>\n",
       "      <td>Deepak</td>\n",
       "      <td>Executive Manager</td>\n",
       "      <td>15000</td>\n",
       "      <td>15000</td>\n",
       "      <td>0</td>\n",
       "    </tr>\n",
       "    <tr>\n",
       "      <th>2020-06-01 00:00:00</th>\n",
       "      <td>Pooja</td>\n",
       "      <td>Na</td>\n",
       "      <td>7600</td>\n",
       "      <td>7600</td>\n",
       "      <td>0</td>\n",
       "    </tr>\n",
       "    <tr>\n",
       "      <th>2020-06-01 00:00:00</th>\n",
       "      <td>Deepak</td>\n",
       "      <td>Assistant</td>\n",
       "      <td>7500</td>\n",
       "      <td>7500</td>\n",
       "      <td>0</td>\n",
       "    </tr>\n",
       "  </tbody>\n",
       "</table>\n",
       "</div>"
      ],
      "text/plain": [
       "0                     Owner        Course Name Fees Received Fees Total  \\\n",
       "Month                                                                     \n",
       "Month                     0                  0             0          0   \n",
       "2020-06-01 00:00:00  Deepak               Nill          8550       8550   \n",
       "2020-06-01 00:00:00  Deepak  Executive Manager         15000      15000   \n",
       "2020-06-01 00:00:00   Pooja                 Na          7600       7600   \n",
       "2020-06-01 00:00:00  Deepak          Assistant          7500       7500   \n",
       "\n",
       "0                   Fees Pending  \n",
       "Month                             \n",
       "Month                          0  \n",
       "2020-06-01 00:00:00            0  \n",
       "2020-06-01 00:00:00            0  \n",
       "2020-06-01 00:00:00            0  \n",
       "2020-06-01 00:00:00            0  "
      ]
     },
     "execution_count": 33,
     "metadata": {},
     "output_type": "execute_result"
    }
   ],
   "source": [
    "data.head()"
   ]
  },
  {
   "cell_type": "code",
   "execution_count": 34,
   "id": "c91a0fe2",
   "metadata": {},
   "outputs": [],
   "source": [
    "data[\"Fees Total\"] = pd.to_numeric(data[\"Fees Total\"])\n",
    "data[\"Fees Received\"] = pd.to_numeric(data[\"Fees Received\"])"
   ]
  },
  {
   "cell_type": "code",
   "execution_count": 35,
   "id": "a0bc26d1",
   "metadata": {},
   "outputs": [],
   "source": [
    "from statsmodels.tsa.seasonal import seasonal_decompose"
   ]
  },
  {
   "cell_type": "code",
   "execution_count": 36,
   "id": "20ee4300",
   "metadata": {},
   "outputs": [
    {
     "data": {
      "text/plain": [
       "555"
      ]
     },
     "execution_count": 36,
     "metadata": {},
     "output_type": "execute_result"
    }
   ],
   "source": [
    "len(data)"
   ]
  },
  {
   "cell_type": "code",
   "execution_count": 37,
   "id": "88771326",
   "metadata": {},
   "outputs": [
    {
     "data": {
      "text/html": [
       "<div>\n",
       "<style scoped>\n",
       "    .dataframe tbody tr th:only-of-type {\n",
       "        vertical-align: middle;\n",
       "    }\n",
       "\n",
       "    .dataframe tbody tr th {\n",
       "        vertical-align: top;\n",
       "    }\n",
       "\n",
       "    .dataframe thead th {\n",
       "        text-align: right;\n",
       "    }\n",
       "</style>\n",
       "<table border=\"1\" class=\"dataframe\">\n",
       "  <thead>\n",
       "    <tr style=\"text-align: right;\">\n",
       "      <th></th>\n",
       "      <th>Owner</th>\n",
       "      <th>Course Name</th>\n",
       "      <th>Fees Received</th>\n",
       "      <th>Fees Total</th>\n",
       "      <th>Fees Pending</th>\n",
       "    </tr>\n",
       "    <tr>\n",
       "      <th>Month</th>\n",
       "      <th></th>\n",
       "      <th></th>\n",
       "      <th></th>\n",
       "      <th></th>\n",
       "      <th></th>\n",
       "    </tr>\n",
       "  </thead>\n",
       "  <tbody>\n",
       "    <tr>\n",
       "      <th>Month</th>\n",
       "      <td>0</td>\n",
       "      <td>0</td>\n",
       "      <td>0</td>\n",
       "      <td>0</td>\n",
       "      <td>0</td>\n",
       "    </tr>\n",
       "    <tr>\n",
       "      <th>2020-06-01 00:00:00</th>\n",
       "      <td>Deepak</td>\n",
       "      <td>Nill</td>\n",
       "      <td>8550</td>\n",
       "      <td>8550</td>\n",
       "      <td>0</td>\n",
       "    </tr>\n",
       "    <tr>\n",
       "      <th>2020-06-01 00:00:00</th>\n",
       "      <td>Deepak</td>\n",
       "      <td>Executive Manager</td>\n",
       "      <td>15000</td>\n",
       "      <td>15000</td>\n",
       "      <td>0</td>\n",
       "    </tr>\n",
       "    <tr>\n",
       "      <th>2020-06-01 00:00:00</th>\n",
       "      <td>Pooja</td>\n",
       "      <td>Na</td>\n",
       "      <td>7600</td>\n",
       "      <td>7600</td>\n",
       "      <td>0</td>\n",
       "    </tr>\n",
       "    <tr>\n",
       "      <th>2020-06-01 00:00:00</th>\n",
       "      <td>Deepak</td>\n",
       "      <td>Assistant</td>\n",
       "      <td>7500</td>\n",
       "      <td>7500</td>\n",
       "      <td>0</td>\n",
       "    </tr>\n",
       "  </tbody>\n",
       "</table>\n",
       "</div>"
      ],
      "text/plain": [
       "0                     Owner        Course Name  Fees Received  Fees Total  \\\n",
       "Month                                                                       \n",
       "Month                     0                  0              0           0   \n",
       "2020-06-01 00:00:00  Deepak               Nill           8550        8550   \n",
       "2020-06-01 00:00:00  Deepak  Executive Manager          15000       15000   \n",
       "2020-06-01 00:00:00   Pooja                 Na           7600        7600   \n",
       "2020-06-01 00:00:00  Deepak          Assistant           7500        7500   \n",
       "\n",
       "0                   Fees Pending  \n",
       "Month                             \n",
       "Month                          0  \n",
       "2020-06-01 00:00:00            0  \n",
       "2020-06-01 00:00:00            0  \n",
       "2020-06-01 00:00:00            0  \n",
       "2020-06-01 00:00:00            0  "
      ]
     },
     "execution_count": 37,
     "metadata": {},
     "output_type": "execute_result"
    }
   ],
   "source": [
    "data.head()"
   ]
  },
  {
   "cell_type": "code",
   "execution_count": 38,
   "id": "8d8bcdad",
   "metadata": {},
   "outputs": [],
   "source": [
    "train = data[[\"Fees Total\"]].iloc[:400]\n",
    "test = data[[\"Fees Total\"]].iloc[400:]"
   ]
  },
  {
   "cell_type": "code",
   "execution_count": 39,
   "id": "31ca2053",
   "metadata": {},
   "outputs": [],
   "source": [
    "from sklearn.preprocessing import MinMaxScaler\n",
    "scaler = MinMaxScaler()"
   ]
  },
  {
   "cell_type": "code",
   "execution_count": 40,
   "id": "0f295ee7",
   "metadata": {},
   "outputs": [],
   "source": [
    "scaler.fit(train)\n",
    "scaled_train = scaler.transform(train)\n",
    "scaled_test = scaler.transform(test)"
   ]
  },
  {
   "cell_type": "code",
   "execution_count": 41,
   "id": "4c9c6cc3",
   "metadata": {},
   "outputs": [
    {
     "data": {
      "text/plain": [
       "array([[0.        ],\n",
       "       [0.16101695],\n",
       "       [0.28248588],\n",
       "       [0.14312618],\n",
       "       [0.14124294],\n",
       "       [0.17890772],\n",
       "       [0.14124294],\n",
       "       [0.14124294],\n",
       "       [0.32015066],\n",
       "       [0.17890772]])"
      ]
     },
     "execution_count": 41,
     "metadata": {},
     "output_type": "execute_result"
    }
   ],
   "source": [
    "scaled_train[:10]"
   ]
  },
  {
   "cell_type": "code",
   "execution_count": 42,
   "id": "3c35a849",
   "metadata": {},
   "outputs": [
    {
     "name": "stdout",
     "output_type": "stream",
     "text": [
      "Requirement already satisfied: keras in c:\\users\\saurabh\\anaconda3\\lib\\site-packages (2.4.3)\n",
      "Requirement already satisfied: numpy>=1.9.1 in c:\\users\\saurabh\\anaconda3\\lib\\site-packages (from keras) (1.19.5)\n",
      "Requirement already satisfied: scipy>=0.14 in c:\\users\\saurabh\\anaconda3\\lib\\site-packages (from keras) (1.6.2)\n",
      "Requirement already satisfied: h5py in c:\\users\\saurabh\\anaconda3\\lib\\site-packages (from keras) (3.1.0)\n",
      "Requirement already satisfied: pyyaml in c:\\users\\saurabh\\anaconda3\\lib\\site-packages (from keras) (5.4.1)\n",
      "Note: you may need to restart the kernel to use updated packages.\n"
     ]
    }
   ],
   "source": [
    "pip install keras"
   ]
  },
  {
   "cell_type": "code",
   "execution_count": 43,
   "id": "d6b65cf7",
   "metadata": {},
   "outputs": [],
   "source": [
    "from keras.preprocessing.sequence import TimeseriesGenerator"
   ]
  },
  {
   "cell_type": "code",
   "execution_count": 44,
   "id": "416a6e19",
   "metadata": {},
   "outputs": [],
   "source": [
    "# define generator\n",
    "n_input = 3\n",
    "n_features = 1\n",
    "generator = TimeseriesGenerator(scaled_train, scaled_train, length=n_input, batch_size=1)"
   ]
  },
  {
   "cell_type": "code",
   "execution_count": 45,
   "id": "7c4ddd77",
   "metadata": {},
   "outputs": [
    {
     "name": "stdout",
     "output_type": "stream",
     "text": [
      "Given the Array: \n",
      "[0.         0.16101695 0.28248588]\n",
      "Predict this y: \n",
      " [[0.14312618]]\n"
     ]
    }
   ],
   "source": [
    "X,y = generator[0]\n",
    "print(f'Given the Array: \\n{X.flatten()}')\n",
    "print(f'Predict this y: \\n {y}')"
   ]
  },
  {
   "cell_type": "code",
   "execution_count": 46,
   "id": "bf1fe493",
   "metadata": {},
   "outputs": [
    {
     "data": {
      "text/plain": [
       "(1, 3, 1)"
      ]
     },
     "execution_count": 46,
     "metadata": {},
     "output_type": "execute_result"
    }
   ],
   "source": [
    "X.shape"
   ]
  },
  {
   "cell_type": "code",
   "execution_count": 47,
   "id": "b601f88f",
   "metadata": {},
   "outputs": [],
   "source": [
    "# We do the same thing, but now instead for 12 months\n",
    "n_input = 12\n",
    "generator = TimeseriesGenerator(scaled_train, scaled_train, length=n_input, batch_size=1)"
   ]
  },
  {
   "cell_type": "code",
   "execution_count": 48,
   "id": "1af149a6",
   "metadata": {},
   "outputs": [],
   "source": [
    "from keras.models import Sequential\n",
    "from keras.layers import Dense\n",
    "from keras.layers import LSTM"
   ]
  },
  {
   "cell_type": "code",
   "execution_count": 49,
   "id": "ddb21fd4",
   "metadata": {},
   "outputs": [],
   "source": [
    "# define model\n",
    "model = Sequential()\n",
    "model.add(LSTM(100, activation='relu', input_shape=(n_input, n_features)))\n",
    "model.add(Dense(1))\n",
    "model.compile(optimizer='adam', loss='mse')"
   ]
  },
  {
   "cell_type": "code",
   "execution_count": 50,
   "id": "1626cc35",
   "metadata": {},
   "outputs": [
    {
     "name": "stdout",
     "output_type": "stream",
     "text": [
      "Model: \"sequential\"\n",
      "_________________________________________________________________\n",
      "Layer (type)                 Output Shape              Param #   \n",
      "=================================================================\n",
      "lstm (LSTM)                  (None, 100)               40800     \n",
      "_________________________________________________________________\n",
      "dense (Dense)                (None, 1)                 101       \n",
      "=================================================================\n",
      "Total params: 40,901\n",
      "Trainable params: 40,901\n",
      "Non-trainable params: 0\n",
      "_________________________________________________________________\n"
     ]
    }
   ],
   "source": [
    "model.summary()"
   ]
  },
  {
   "cell_type": "code",
   "execution_count": 51,
   "id": "bbfec58c",
   "metadata": {},
   "outputs": [
    {
     "name": "stdout",
     "output_type": "stream",
     "text": [
      "Epoch 1/50\n",
      "388/388 [==============================] - 16s 2ms/step - loss: 0.0365\n",
      "Epoch 2/50\n",
      "388/388 [==============================] - 1s 2ms/step - loss: 0.0250\n",
      "Epoch 3/50\n",
      "388/388 [==============================] - 1s 2ms/step - loss: 0.0265\n",
      "Epoch 4/50\n",
      "388/388 [==============================] - 1s 2ms/step - loss: 0.0263A: 0\n",
      "Epoch 5/50\n",
      "388/388 [==============================] - 1s 2ms/step - loss: 0.0291\n",
      "Epoch 6/50\n",
      "388/388 [==============================] - 1s 2ms/step - loss: 0.0227\n",
      "Epoch 7/50\n",
      "388/388 [==============================] - 1s 2ms/step - loss: 0.0273\n",
      "Epoch 8/50\n",
      "388/388 [==============================] - 1s 2ms/step - loss: 0.0286\n",
      "Epoch 9/50\n",
      "388/388 [==============================] - 1s 2ms/step - loss: 0.0294\n",
      "Epoch 10/50\n",
      "388/388 [==============================] - 1s 2ms/step - loss: 0.0247\n",
      "Epoch 11/50\n",
      "388/388 [==============================] - 1s 2ms/step - loss: 0.0294\n",
      "Epoch 12/50\n",
      "388/388 [==============================] - 1s 2ms/step - loss: 0.0258A: 0s - lo\n",
      "Epoch 13/50\n",
      "388/388 [==============================] - 1s 2ms/step - loss: 0.0258\n",
      "Epoch 14/50\n",
      "388/388 [==============================] - 1s 2ms/step - loss: 0.0254\n",
      "Epoch 15/50\n",
      "388/388 [==============================] - 1s 2ms/step - loss: 0.0234\n",
      "Epoch 16/50\n",
      "388/388 [==============================] - 1s 2ms/step - loss: 0.0259\n",
      "Epoch 17/50\n",
      "388/388 [==============================] - 1s 2ms/step - loss: 0.0271\n",
      "Epoch 18/50\n",
      "388/388 [==============================] - 1s 2ms/step - loss: 0.0254\n",
      "Epoch 19/50\n",
      "388/388 [==============================] - 1s 2ms/step - loss: 0.0235\n",
      "Epoch 20/50\n",
      "388/388 [==============================] - 1s 2ms/step - loss: 0.0335\n",
      "Epoch 21/50\n",
      "388/388 [==============================] - 1s 2ms/step - loss: 0.0248\n",
      "Epoch 22/50\n",
      "388/388 [==============================] - 1s 2ms/step - loss: 0.0252\n",
      "Epoch 23/50\n",
      "388/388 [==============================] - 1s 2ms/step - loss: 0.0229\n",
      "Epoch 24/50\n",
      "388/388 [==============================] - 1s 2ms/step - loss: 0.0231\n",
      "Epoch 25/50\n",
      "388/388 [==============================] - 1s 2ms/step - loss: 0.0296\n",
      "Epoch 26/50\n",
      "388/388 [==============================] - 1s 2ms/step - loss: 0.0273\n",
      "Epoch 27/50\n",
      "388/388 [==============================] - 1s 2ms/step - loss: 0.0268\n",
      "Epoch 28/50\n",
      "388/388 [==============================] - 1s 2ms/step - loss: 0.0266\n",
      "Epoch 29/50\n",
      "388/388 [==============================] - 1s 3ms/step - loss: 0.0257\n",
      "Epoch 30/50\n",
      "388/388 [==============================] - 1s 3ms/step - loss: 0.0217\n",
      "Epoch 31/50\n",
      "388/388 [==============================] - 1s 3ms/step - loss: 0.0231\n",
      "Epoch 32/50\n",
      "388/388 [==============================] - 1s 2ms/step - loss: 0.0253\n",
      "Epoch 33/50\n",
      "388/388 [==============================] - 1s 2ms/step - loss: 0.0270\n",
      "Epoch 34/50\n",
      "388/388 [==============================] - 1s 2ms/step - loss: 0.0296\n",
      "Epoch 35/50\n",
      "388/388 [==============================] - 1s 3ms/step - loss: 0.0226\n",
      "Epoch 36/50\n",
      "388/388 [==============================] - 2s 5ms/step - loss: 0.0244A: 0\n",
      "Epoch 37/50\n",
      "388/388 [==============================] - 2s 4ms/step - loss: 0.0305\n",
      "Epoch 38/50\n",
      "388/388 [==============================] - 1s 3ms/step - loss: 0.0338\n",
      "Epoch 39/50\n",
      "388/388 [==============================] - 1s 2ms/step - loss: 0.0271\n",
      "Epoch 40/50\n",
      "388/388 [==============================] - 1s 2ms/step - loss: 0.0252\n",
      "Epoch 41/50\n",
      "388/388 [==============================] - 1s 2ms/step - loss: 0.0266\n",
      "Epoch 42/50\n",
      "388/388 [==============================] - 1s 4ms/step - loss: 0.0224\n",
      "Epoch 43/50\n",
      "388/388 [==============================] - 1s 3ms/step - loss: 0.0210\n",
      "Epoch 44/50\n",
      "388/388 [==============================] - 1s 2ms/step - loss: 0.0249\n",
      "Epoch 45/50\n",
      "388/388 [==============================] - 1s 3ms/step - loss: 0.0261\n",
      "Epoch 46/50\n",
      "388/388 [==============================] - 1s 3ms/step - loss: 0.0312\n",
      "Epoch 47/50\n",
      "388/388 [==============================] - 2s 4ms/step - loss: 0.0305\n",
      "Epoch 48/50\n",
      "388/388 [==============================] - 1s 3ms/step - loss: 0.0284\n",
      "Epoch 49/50\n",
      "388/388 [==============================] - 2s 4ms/step - loss: 0.0290\n",
      "Epoch 50/50\n",
      "388/388 [==============================] - 2s 4ms/step - loss: 0.0286\n"
     ]
    },
    {
     "data": {
      "text/plain": [
       "<keras.callbacks.History at 0x2979c20e580>"
      ]
     },
     "execution_count": 51,
     "metadata": {},
     "output_type": "execute_result"
    }
   ],
   "source": [
    "# fit model\n",
    "model.fit(generator,epochs=50)"
   ]
  },
  {
   "cell_type": "code",
   "execution_count": 52,
   "id": "377f544c",
   "metadata": {},
   "outputs": [
    {
     "data": {
      "text/plain": [
       "[<matplotlib.lines.Line2D at 0x297a3be71f0>]"
      ]
     },
     "execution_count": 52,
     "metadata": {},
     "output_type": "execute_result"
    },
    {
     "data": {
      "image/png": "[encoded data removed]",
      "text/plain": [
       "<Figure size 432x288 with 1 Axes>"
      ]
     },
     "metadata": {
      "needs_background": "light"
     },
     "output_type": "display_data"
    }
   ],
   "source": [
    "loss_per_epoch = model.history.history['loss']\n",
    "plt.plot(range(len(loss_per_epoch)),loss_per_epoch)"
   ]
  },
  {
   "cell_type": "code",
   "execution_count": 53,
   "id": "679000f8",
   "metadata": {},
   "outputs": [],
   "source": [
    "last_train_batch = scaled_train[-12:]"
   ]
  },
  {
   "cell_type": "code",
   "execution_count": 54,
   "id": "9ad2fd0b",
   "metadata": {},
   "outputs": [],
   "source": [
    "last_train_batch = last_train_batch.reshape((1, n_input, n_features))"
   ]
  },
  {
   "cell_type": "code",
   "execution_count": 55,
   "id": "40056b16",
   "metadata": {},
   "outputs": [
    {
     "data": {
      "text/plain": [
       "array([[0.28640777]], dtype=float32)"
      ]
     },
     "execution_count": 55,
     "metadata": {},
     "output_type": "execute_result"
    }
   ],
   "source": [
    "model.predict(last_train_batch)"
   ]
  },
  {
   "cell_type": "code",
   "execution_count": 56,
   "id": "c4bb6ae2",
   "metadata": {},
   "outputs": [
    {
     "data": {
      "text/plain": [
       "array([0.15065913])"
      ]
     },
     "execution_count": 56,
     "metadata": {},
     "output_type": "execute_result"
    }
   ],
   "source": [
    "scaled_test[0]"
   ]
  },
  {
   "cell_type": "code",
   "execution_count": 57,
   "id": "69734b4c",
   "metadata": {},
   "outputs": [],
   "source": [
    "test_predictions = []\n",
    "\n",
    "first_eval_batch = scaled_train[-n_input:]\n",
    "current_batch = first_eval_batch.reshape((1, n_input, n_features))\n",
    "\n",
    "for i in range(len(test)):\n",
    "    \n",
    "    # get the prediction value for the first batch\n",
    "    current_pred = model.predict(current_batch)[0]\n",
    "    \n",
    "    # append the prediction into the array\n",
    "    test_predictions.append(current_pred) \n",
    "    \n",
    "    # use the prediction to update the batch and remove the first value\n",
    "    current_batch = np.append(current_batch[:,1:,:],[[current_pred]],axis=1)"
   ]
  },
  {
   "cell_type": "code",
   "execution_count": 58,
   "id": "3c160d13",
   "metadata": {},
   "outputs": [
    {
     "data": {
      "text/plain": [
       "[array([0.28640777], dtype=float32),\n",
       " array([0.27134803], dtype=float32),\n",
       " array([0.259461], dtype=float32),\n",
       " array([0.26152307], dtype=float32),\n",
       " array([0.25738475], dtype=float32),\n",
       " array([0.24933651], dtype=float32),\n",
       " array([0.24078906], dtype=float32),\n",
       " array([0.24269737], dtype=float32),\n",
       " array([0.2342288], dtype=float32),\n",
       " array([0.22934265], dtype=float32),\n",
       " array([0.2147036], dtype=float32),\n",
       " array([0.20067456], dtype=float32),\n",
       " array([0.20039289], dtype=float32),\n",
       " array([0.19772844], dtype=float32),\n",
       " array([0.19653982], dtype=float32),\n",
       " array([0.1954109], dtype=float32),\n",
       " array([0.1937573], dtype=float32),\n",
       " array([0.19201526], dtype=float32),\n",
       " array([0.19125739], dtype=float32),\n",
       " array([0.19009976], dtype=float32),\n",
       " array([0.1888636], dtype=float32),\n",
       " array([0.1872288], dtype=float32),\n",
       " array([0.18532339], dtype=float32),\n",
       " array([0.18424249], dtype=float32),\n",
       " array([0.18391192], dtype=float32),\n",
       " array([0.18352295], dtype=float32),\n",
       " array([0.18323858], dtype=float32),\n",
       " array([0.18294981], dtype=float32),\n",
       " array([0.18266118], dtype=float32),\n",
       " array([0.18242064], dtype=float32),\n",
       " array([0.18225178], dtype=float32),\n",
       " array([0.18206705], dtype=float32),\n",
       " array([0.18188033], dtype=float32),\n",
       " array([0.18167245], dtype=float32),\n",
       " array([0.18147883], dtype=float32),\n",
       " array([0.18136626], dtype=float32),\n",
       " array([0.1813057], dtype=float32),\n",
       " array([0.18124652], dtype=float32),\n",
       " array([0.18119752], dtype=float32),\n",
       " array([0.18115139], dtype=float32),\n",
       " array([0.18110947], dtype=float32),\n",
       " array([0.18107514], dtype=float32),\n",
       " array([0.18104732], dtype=float32),\n",
       " array([0.18102024], dtype=float32),\n",
       " array([0.18099424], dtype=float32),\n",
       " array([0.18096873], dtype=float32),\n",
       " array([0.18094744], dtype=float32),\n",
       " array([0.18093373], dtype=float32),\n",
       " array([0.18092407], dtype=float32),\n",
       " array([0.18091527], dtype=float32),\n",
       " array([0.18090773], dtype=float32),\n",
       " array([0.18090093], dtype=float32),\n",
       " array([0.18089503], dtype=float32),\n",
       " array([0.18089014], dtype=float32),\n",
       " array([0.180886], dtype=float32),\n",
       " array([0.18088217], dtype=float32),\n",
       " array([0.18087867], dtype=float32),\n",
       " array([0.1808755], dtype=float32),\n",
       " array([0.18087295], dtype=float32),\n",
       " array([0.18087113], dtype=float32),\n",
       " array([0.18086968], dtype=float32),\n",
       " array([0.18086842], dtype=float32),\n",
       " array([0.18086731], dtype=float32),\n",
       " array([0.18086633], dtype=float32),\n",
       " array([0.18086551], dtype=float32),\n",
       " array([0.18086483], dtype=float32),\n",
       " array([0.18086424], dtype=float32),\n",
       " array([0.18086371], dtype=float32),\n",
       " array([0.18086325], dtype=float32),\n",
       " array([0.18086284], dtype=float32),\n",
       " array([0.18086252], dtype=float32),\n",
       " array([0.18086226], dtype=float32),\n",
       " array([0.18086205], dtype=float32),\n",
       " array([0.18086186], dtype=float32),\n",
       " array([0.18086171], dtype=float32),\n",
       " array([0.18086158], dtype=float32),\n",
       " array([0.18086146], dtype=float32),\n",
       " array([0.18086137], dtype=float32),\n",
       " array([0.18086128], dtype=float32),\n",
       " array([0.1808612], dtype=float32),\n",
       " array([0.18086115], dtype=float32),\n",
       " array([0.1808611], dtype=float32),\n",
       " array([0.18086106], dtype=float32),\n",
       " array([0.18086103], dtype=float32),\n",
       " array([0.18086098], dtype=float32),\n",
       " array([0.18086097], dtype=float32),\n",
       " array([0.18086094], dtype=float32),\n",
       " array([0.18086092], dtype=float32),\n",
       " array([0.1808609], dtype=float32),\n",
       " array([0.18086089], dtype=float32),\n",
       " array([0.18086088], dtype=float32),\n",
       " array([0.18086088], dtype=float32),\n",
       " array([0.18086086], dtype=float32),\n",
       " array([0.18086086], dtype=float32),\n",
       " array([0.18086085], dtype=float32),\n",
       " array([0.18086085], dtype=float32),\n",
       " array([0.18086085], dtype=float32),\n",
       " array([0.18086085], dtype=float32),\n",
       " array([0.18086085], dtype=float32),\n",
       " array([0.18086083], dtype=float32),\n",
       " array([0.18086083], dtype=float32),\n",
       " array([0.18086083], dtype=float32),\n",
       " array([0.18086083], dtype=float32),\n",
       " array([0.18086083], dtype=float32),\n",
       " array([0.18086082], dtype=float32),\n",
       " array([0.18086082], dtype=float32),\n",
       " array([0.18086082], dtype=float32),\n",
       " array([0.18086082], dtype=float32),\n",
       " array([0.18086082], dtype=float32),\n",
       " array([0.18086082], dtype=float32),\n",
       " array([0.18086082], dtype=float32),\n",
       " array([0.18086082], dtype=float32),\n",
       " array([0.18086082], dtype=float32),\n",
       " array([0.18086082], dtype=float32),\n",
       " array([0.18086082], dtype=float32),\n",
       " array([0.18086082], dtype=float32),\n",
       " array([0.18086082], dtype=float32),\n",
       " array([0.18086082], dtype=float32),\n",
       " array([0.18086082], dtype=float32),\n",
       " array([0.18086082], dtype=float32),\n",
       " array([0.18086082], dtype=float32),\n",
       " array([0.18086082], dtype=float32),\n",
       " array([0.18086082], dtype=float32),\n",
       " array([0.18086082], dtype=float32),\n",
       " array([0.18086082], dtype=float32),\n",
       " array([0.18086082], dtype=float32),\n",
       " array([0.18086082], dtype=float32),\n",
       " array([0.18086082], dtype=float32),\n",
       " array([0.18086082], dtype=float32),\n",
       " array([0.18086082], dtype=float32),\n",
       " array([0.18086082], dtype=float32),\n",
       " array([0.18086082], dtype=float32),\n",
       " array([0.18086082], dtype=float32),\n",
       " array([0.18086082], dtype=float32),\n",
       " array([0.18086082], dtype=float32),\n",
       " array([0.18086082], dtype=float32),\n",
       " array([0.18086082], dtype=float32),\n",
       " array([0.18086082], dtype=float32),\n",
       " array([0.18086082], dtype=float32),\n",
       " array([0.18086082], dtype=float32),\n",
       " array([0.18086082], dtype=float32),\n",
       " array([0.18086082], dtype=float32),\n",
       " array([0.18086082], dtype=float32),\n",
       " array([0.18086082], dtype=float32),\n",
       " array([0.18086082], dtype=float32),\n",
       " array([0.18086082], dtype=float32),\n",
       " array([0.18086082], dtype=float32),\n",
       " array([0.18086082], dtype=float32),\n",
       " array([0.18086082], dtype=float32),\n",
       " array([0.18086082], dtype=float32),\n",
       " array([0.18086082], dtype=float32),\n",
       " array([0.18086082], dtype=float32),\n",
       " array([0.18086082], dtype=float32),\n",
       " array([0.18086082], dtype=float32),\n",
       " array([0.18086082], dtype=float32)]"
      ]
     },
     "execution_count": 58,
     "metadata": {},
     "output_type": "execute_result"
    }
   ],
   "source": [
    "test_predictions"
   ]
  },
  {
   "cell_type": "code",
   "execution_count": 59,
   "id": "5181ebfb",
   "metadata": {},
   "outputs": [
    {
     "data": {
      "text/html": [
       "<div>\n",
       "<style scoped>\n",
       "    .dataframe tbody tr th:only-of-type {\n",
       "        vertical-align: middle;\n",
       "    }\n",
       "\n",
       "    .dataframe tbody tr th {\n",
       "        vertical-align: top;\n",
       "    }\n",
       "\n",
       "    .dataframe thead th {\n",
       "        text-align: right;\n",
       "    }\n",
       "</style>\n",
       "<table border=\"1\" class=\"dataframe\">\n",
       "  <thead>\n",
       "    <tr style=\"text-align: right;\">\n",
       "      <th></th>\n",
       "      <th>Fees Total</th>\n",
       "    </tr>\n",
       "    <tr>\n",
       "      <th>Month</th>\n",
       "      <th></th>\n",
       "    </tr>\n",
       "  </thead>\n",
       "  <tbody>\n",
       "    <tr>\n",
       "      <th>2021-06-01 00:00:00</th>\n",
       "      <td>8000</td>\n",
       "    </tr>\n",
       "    <tr>\n",
       "      <th>2021-06-01 00:00:00</th>\n",
       "      <td>22500</td>\n",
       "    </tr>\n",
       "    <tr>\n",
       "      <th>2021-06-01 00:00:00</th>\n",
       "      <td>7500</td>\n",
       "    </tr>\n",
       "    <tr>\n",
       "      <th>2021-06-01 00:00:00</th>\n",
       "      <td>12500</td>\n",
       "    </tr>\n",
       "    <tr>\n",
       "      <th>2021-06-01 00:00:00</th>\n",
       "      <td>29500</td>\n",
       "    </tr>\n",
       "  </tbody>\n",
       "</table>\n",
       "</div>"
      ],
      "text/plain": [
       "0                    Fees Total\n",
       "Month                          \n",
       "2021-06-01 00:00:00        8000\n",
       "2021-06-01 00:00:00       22500\n",
       "2021-06-01 00:00:00        7500\n",
       "2021-06-01 00:00:00       12500\n",
       "2021-06-01 00:00:00       29500"
      ]
     },
     "execution_count": 59,
     "metadata": {},
     "output_type": "execute_result"
    }
   ],
   "source": [
    "test.head()"
   ]
  },
  {
   "cell_type": "code",
   "execution_count": 60,
   "id": "aea54947",
   "metadata": {},
   "outputs": [],
   "source": [
    "true_predictions = scaler.inverse_transform(test_predictions)"
   ]
  },
  {
   "cell_type": "code",
   "execution_count": 61,
   "id": "e9e51c81",
   "metadata": {},
   "outputs": [],
   "source": [
    "test['Predictions'] = true_predictions"
   ]
  },
  {
   "cell_type": "code",
   "execution_count": 62,
   "id": "fdaadcf4",
   "metadata": {},
   "outputs": [
    {
     "data": {
      "text/plain": [
       "<AxesSubplot:xlabel='Month'>"
      ]
     },
     "execution_count": 62,
     "metadata": {},
     "output_type": "execute_result"
    },
    {
     "data": {
      "image/png": "[encoded data removed]",
      "text/plain": [
       "<Figure size 2016x720 with 1 Axes>"
      ]
     },
     "metadata": {
      "needs_background": "light"
     },
     "output_type": "display_data"
    }
   ],
   "source": [
    "test.plot(figsize=(28,10))"
   ]
  },
  {
   "cell_type": "code",
   "execution_count": 63,
   "id": "f8403bfe",
   "metadata": {},
   "outputs": [
    {
     "name": "stdout",
     "output_type": "stream",
     "text": [
      "13818.424290977158\n"
     ]
    }
   ],
   "source": [
    "from sklearn.metrics import mean_squared_error\n",
    "from math import sqrt\n",
    "rmse=sqrt(mean_squared_error(test['Fees Total'],test['Predictions']))\n",
    "print(rmse)"
   ]
  },
  {
   "cell_type": "code",
   "execution_count": 65,
   "id": "5b5d5e5e",
   "metadata": {},
   "outputs": [],
   "source": [
    "from statsmodels.tsa.stattools import adfuller"
   ]
  },
  {
   "cell_type": "code",
   "execution_count": 66,
   "id": "868ef669",
   "metadata": {},
   "outputs": [],
   "source": [
    "from pmdarima import auto_arima\n",
    "import warnings\n",
    "warnings.filterwarnings(\"ignore\")"
   ]
  },
  {
   "cell_type": "code",
   "execution_count": 82,
   "id": "7bb00d30",
   "metadata": {},
   "outputs": [
    {
     "name": "stdout",
     "output_type": "stream",
     "text": [
      "Performing stepwise search to minimize aic\n",
      " ARIMA(2,1,2)(0,0,0)[0] intercept   : AIC=11588.032, Time=0.42 sec\n",
      " ARIMA(0,1,0)(0,0,0)[0] intercept   : AIC=11948.776, Time=0.01 sec\n",
      " ARIMA(1,1,0)(0,0,0)[0] intercept   : AIC=11802.942, Time=0.02 sec\n",
      " ARIMA(0,1,1)(0,0,0)[0] intercept   : AIC=11585.447, Time=0.18 sec\n",
      " ARIMA(0,1,0)(0,0,0)[0]             : AIC=11946.783, Time=0.01 sec\n",
      " ARIMA(1,1,1)(0,0,0)[0] intercept   : AIC=11587.303, Time=0.37 sec\n",
      " ARIMA(0,1,2)(0,0,0)[0] intercept   : AIC=inf, Time=0.33 sec\n",
      " ARIMA(1,1,2)(0,0,0)[0] intercept   : AIC=11582.912, Time=0.47 sec\n",
      " ARIMA(1,1,3)(0,0,0)[0] intercept   : AIC=11587.736, Time=0.39 sec\n",
      " ARIMA(0,1,3)(0,0,0)[0] intercept   : AIC=11593.634, Time=0.33 sec\n",
      " ARIMA(2,1,1)(0,0,0)[0] intercept   : AIC=11597.202, Time=0.34 sec\n",
      " ARIMA(2,1,3)(0,0,0)[0] intercept   : AIC=11589.023, Time=0.63 sec\n",
      " ARIMA(1,1,2)(0,0,0)[0]             : AIC=11591.099, Time=0.09 sec\n",
      "\n",
      "Best model:  ARIMA(1,1,2)(0,0,0)[0] intercept\n",
      "Total fit time: 3.583 seconds\n"
     ]
    },
    {
     "data": {
      "text/html": [
       "<table class=\"simpletable\">\n",
       "<caption>SARIMAX Results</caption>\n",
       "<tr>\n",
       "  <th>Dep. Variable:</th>           <td>y</td>        <th>  No. Observations:  </th>    <td>555</td>   \n",
       "</tr>\n",
       "<tr>\n",
       "  <th>Model:</th>           <td>SARIMAX(1, 1, 2)</td> <th>  Log Likelihood     </th> <td>-5786.456</td>\n",
       "</tr>\n",
       "<tr>\n",
       "  <th>Date:</th>            <td>Wed, 04 Aug 2021</td> <th>  AIC                </th> <td>11582.912</td>\n",
       "</tr>\n",
       "<tr>\n",
       "  <th>Time:</th>                <td>20:20:21</td>     <th>  BIC                </th> <td>11604.498</td>\n",
       "</tr>\n",
       "<tr>\n",
       "  <th>Sample:</th>                  <td>0</td>        <th>  HQIC               </th> <td>11591.344</td>\n",
       "</tr>\n",
       "<tr>\n",
       "  <th></th>                      <td> - 555</td>      <th>                     </th>     <td> </td>    \n",
       "</tr>\n",
       "<tr>\n",
       "  <th>Covariance Type:</th>        <td>opg</td>       <th>                     </th>     <td> </td>    \n",
       "</tr>\n",
       "</table>\n",
       "<table class=\"simpletable\">\n",
       "<tr>\n",
       "      <td></td>         <th>coef</th>     <th>std err</th>      <th>z</th>      <th>P>|z|</th>  <th>[0.025</th>    <th>0.975]</th>  \n",
       "</tr>\n",
       "<tr>\n",
       "  <th>intercept</th> <td>   35.2992</td> <td>    8.891</td> <td>    3.970</td> <td> 0.000</td> <td>   17.874</td> <td>   52.724</td>\n",
       "</tr>\n",
       "<tr>\n",
       "  <th>ar.L1</th>     <td>   -0.8563</td> <td>    0.088</td> <td>   -9.703</td> <td> 0.000</td> <td>   -1.029</td> <td>   -0.683</td>\n",
       "</tr>\n",
       "<tr>\n",
       "  <th>ma.L1</th>     <td>   -0.0756</td> <td>    0.070</td> <td>   -1.077</td> <td> 0.281</td> <td>   -0.213</td> <td>    0.062</td>\n",
       "</tr>\n",
       "<tr>\n",
       "  <th>ma.L2</th>     <td>   -0.9023</td> <td>    0.068</td> <td>  -13.306</td> <td> 0.000</td> <td>   -1.035</td> <td>   -0.769</td>\n",
       "</tr>\n",
       "<tr>\n",
       "  <th>sigma2</th>    <td> 6.883e+07</td> <td> 8.63e-06</td> <td> 7.98e+12</td> <td> 0.000</td> <td> 6.88e+07</td> <td> 6.88e+07</td>\n",
       "</tr>\n",
       "</table>\n",
       "<table class=\"simpletable\">\n",
       "<tr>\n",
       "  <th>Ljung-Box (L1) (Q):</th>     <td>0.43</td> <th>  Jarque-Bera (JB):  </th> <td>54.07</td>\n",
       "</tr>\n",
       "<tr>\n",
       "  <th>Prob(Q):</th>                <td>0.51</td> <th>  Prob(JB):          </th> <td>0.00</td> \n",
       "</tr>\n",
       "<tr>\n",
       "  <th>Heteroskedasticity (H):</th> <td>2.95</td> <th>  Skew:              </th> <td>0.69</td> \n",
       "</tr>\n",
       "<tr>\n",
       "  <th>Prob(H) (two-sided):</th>    <td>0.00</td> <th>  Kurtosis:          </th> <td>3.67</td> \n",
       "</tr>\n",
       "</table><br/><br/>Warnings:<br/>[1] Covariance matrix calculated using the outer product of gradients (complex-step).<br/>[2] Covariance matrix is singular or near-singular, with condition number 4.68e+27. Standard errors may be unstable."
      ],
      "text/plain": [
       "<class 'statsmodels.iolib.summary.Summary'>\n",
       "\"\"\"\n",
       "                               SARIMAX Results                                \n",
       "==============================================================================\n",
       "Dep. Variable:                      y   No. Observations:                  555\n",
       "Model:               SARIMAX(1, 1, 2)   Log Likelihood               -5786.456\n",
       "Date:                Wed, 04 Aug 2021   AIC                          11582.912\n",
       "Time:                        20:20:21   BIC                          11604.498\n",
       "Sample:                             0   HQIC                         11591.344\n",
       "                                - 555                                         \n",
       "Covariance Type:                  opg                                         \n",
       "==============================================================================\n",
       "                 coef    std err          z      P>|z|      [0.025      0.975]\n",
       "------------------------------------------------------------------------------\n",
       "intercept     35.2992      8.891      3.970      0.000      17.874      52.724\n",
       "ar.L1         -0.8563      0.088     -9.703      0.000      -1.029      -0.683\n",
       "ma.L1         -0.0756      0.070     -1.077      0.281      -0.213       0.062\n",
       "ma.L2         -0.9023      0.068    -13.306      0.000      -1.035      -0.769\n",
       "sigma2      6.883e+07   8.63e-06   7.98e+12      0.000    6.88e+07    6.88e+07\n",
       "===================================================================================\n",
       "Ljung-Box (L1) (Q):                   0.43   Jarque-Bera (JB):                54.07\n",
       "Prob(Q):                              0.51   Prob(JB):                         0.00\n",
       "Heteroskedasticity (H):               2.95   Skew:                             0.69\n",
       "Prob(H) (two-sided):                  0.00   Kurtosis:                         3.67\n",
       "===================================================================================\n",
       "\n",
       "Warnings:\n",
       "[1] Covariance matrix calculated using the outer product of gradients (complex-step).\n",
       "[2] Covariance matrix is singular or near-singular, with condition number 4.68e+27. Standard errors may be unstable.\n",
       "\"\"\""
      ]
     },
     "execution_count": 82,
     "metadata": {},
     "output_type": "execute_result"
    }
   ],
   "source": [
    "stepwise_fit=auto_arima(data['Fees Received'],trace=True,supress_warnings=True)\n",
    "stepwise_fit.summary()"
   ]
  },
  {
   "cell_type": "code",
   "execution_count": 84,
   "id": "e94307b3",
   "metadata": {},
   "outputs": [],
   "source": [
    "from statsmodels.tsa.arima_model import ARIMA"
   ]
  },
  {
   "cell_type": "code",
   "execution_count": 85,
   "id": "6bce8397",
   "metadata": {},
   "outputs": [
    {
     "name": "stdout",
     "output_type": "stream",
     "text": [
      "(555, 5)\n"
     ]
    }
   ],
   "source": [
    "print(data.shape)"
   ]
  },
  {
   "cell_type": "code",
   "execution_count": 86,
   "id": "f8dd02b6",
   "metadata": {},
   "outputs": [
    {
     "name": "stdout",
     "output_type": "stream",
     "text": [
      "(525, 5) (30, 5)\n"
     ]
    }
   ],
   "source": [
    "train=data.iloc[:-30]\n",
    "test=data.iloc[-30:]\n",
    "print(train.shape ,test.shape)"
   ]
  },
  {
   "cell_type": "code",
   "execution_count": 87,
   "id": "23fc8a19",
   "metadata": {},
   "outputs": [
    {
     "data": {
      "text/html": [
       "<table class=\"simpletable\">\n",
       "<caption>ARIMA Model Results</caption>\n",
       "<tr>\n",
       "  <th>Dep. Variable:</th>  <td>D.Fees Received</td> <th>  No. Observations:  </th>    <td>524</td>   \n",
       "</tr>\n",
       "<tr>\n",
       "  <th>Model:</th>          <td>ARIMA(1, 1, 2)</td>  <th>  Log Likelihood     </th> <td>-5466.567</td>\n",
       "</tr>\n",
       "<tr>\n",
       "  <th>Method:</th>             <td>css-mle</td>     <th>  S.D. of innovations</th> <td>8182.716</td> \n",
       "</tr>\n",
       "<tr>\n",
       "  <th>Date:</th>          <td>Wed, 04 Aug 2021</td> <th>  AIC                </th> <td>10943.134</td>\n",
       "</tr>\n",
       "<tr>\n",
       "  <th>Time:</th>              <td>20:20:40</td>     <th>  BIC                </th> <td>10964.441</td>\n",
       "</tr>\n",
       "<tr>\n",
       "  <th>Sample:</th>                <td>1</td>        <th>  HQIC               </th> <td>10951.478</td>\n",
       "</tr>\n",
       "<tr>\n",
       "  <th></th>                       <td> </td>        <th>                     </th>     <td> </td>    \n",
       "</tr>\n",
       "</table>\n",
       "<table class=\"simpletable\">\n",
       "<tr>\n",
       "            <td></td>               <th>coef</th>     <th>std err</th>      <th>z</th>      <th>P>|z|</th>  <th>[0.025</th>    <th>0.975]</th>  \n",
       "</tr>\n",
       "<tr>\n",
       "  <th>const</th>                 <td>   20.1695</td> <td>    4.894</td> <td>    4.122</td> <td> 0.000</td> <td>   10.578</td> <td>   29.761</td>\n",
       "</tr>\n",
       "<tr>\n",
       "  <th>ar.L1.D.Fees Received</th> <td>   -0.8127</td> <td>    0.120</td> <td>   -6.756</td> <td> 0.000</td> <td>   -1.049</td> <td>   -0.577</td>\n",
       "</tr>\n",
       "<tr>\n",
       "  <th>ma.L1.D.Fees Received</th> <td>   -0.1122</td> <td>    0.100</td> <td>   -1.123</td> <td> 0.261</td> <td>   -0.308</td> <td>    0.084</td>\n",
       "</tr>\n",
       "<tr>\n",
       "  <th>ma.L2.D.Fees Received</th> <td>   -0.8678</td> <td>    0.098</td> <td>   -8.841</td> <td> 0.000</td> <td>   -1.060</td> <td>   -0.675</td>\n",
       "</tr>\n",
       "</table>\n",
       "<table class=\"simpletable\">\n",
       "<caption>Roots</caption>\n",
       "<tr>\n",
       "    <td></td>   <th>            Real</th>  <th>         Imaginary</th> <th>         Modulus</th>  <th>        Frequency</th>\n",
       "</tr>\n",
       "<tr>\n",
       "  <th>AR.1</th> <td>          -1.2304</td> <td>          +0.0000j</td> <td>           1.2304</td> <td>           0.5000</td>\n",
       "</tr>\n",
       "<tr>\n",
       "  <th>MA.1</th> <td>           1.0108</td> <td>          +0.0000j</td> <td>           1.0108</td> <td>           0.0000</td>\n",
       "</tr>\n",
       "<tr>\n",
       "  <th>MA.2</th> <td>          -1.1401</td> <td>          +0.0000j</td> <td>           1.1401</td> <td>           0.5000</td>\n",
       "</tr>\n",
       "</table>"
      ],
      "text/plain": [
       "<class 'statsmodels.iolib.summary.Summary'>\n",
       "\"\"\"\n",
       "                             ARIMA Model Results                              \n",
       "==============================================================================\n",
       "Dep. Variable:        D.Fees Received   No. Observations:                  524\n",
       "Model:                 ARIMA(1, 1, 2)   Log Likelihood               -5466.567\n",
       "Method:                       css-mle   S.D. of innovations           8182.716\n",
       "Date:                Wed, 04 Aug 2021   AIC                          10943.134\n",
       "Time:                        20:20:40   BIC                          10964.441\n",
       "Sample:                             1   HQIC                         10951.478\n",
       "                                                                              \n",
       "=========================================================================================\n",
       "                            coef    std err          z      P>|z|      [0.025      0.975]\n",
       "-----------------------------------------------------------------------------------------\n",
       "const                    20.1695      4.894      4.122      0.000      10.578      29.761\n",
       "ar.L1.D.Fees Received    -0.8127      0.120     -6.756      0.000      -1.049      -0.577\n",
       "ma.L1.D.Fees Received    -0.1122      0.100     -1.123      0.261      -0.308       0.084\n",
       "ma.L2.D.Fees Received    -0.8678      0.098     -8.841      0.000      -1.060      -0.675\n",
       "                                    Roots                                    \n",
       "=============================================================================\n",
       "                  Real          Imaginary           Modulus         Frequency\n",
       "-----------------------------------------------------------------------------\n",
       "AR.1           -1.2304           +0.0000j            1.2304            0.5000\n",
       "MA.1            1.0108           +0.0000j            1.0108            0.0000\n",
       "MA.2           -1.1401           +0.0000j            1.1401            0.5000\n",
       "-----------------------------------------------------------------------------\n",
       "\"\"\""
      ]
     },
     "execution_count": 87,
     "metadata": {},
     "output_type": "execute_result"
    }
   ],
   "source": [
    "model=ARIMA(train['Fees Received'],order=(1,1,2))\n",
    "model=model.fit()\n",
    "model.summary()"
   ]
  },
  {
   "cell_type": "code",
   "execution_count": 88,
   "id": "a4429040",
   "metadata": {},
   "outputs": [
    {
     "name": "stdout",
     "output_type": "stream",
     "text": [
      "Month\n",
      "2021-07-01    18024.299063\n",
      "2021-07-01    19484.574473\n",
      "2021-07-01    18334.305624\n",
      "2021-07-01    19305.742575\n",
      "2021-07-01    18552.774553\n",
      "2021-07-01    19201.307394\n",
      "2021-07-01    18710.777950\n",
      "2021-07-01    19146.015249\n",
      "2021-07-01    18828.840609\n",
      "2021-07-01    19123.184724\n",
      "2021-07-01    18920.520262\n",
      "2021-07-01    19121.796846\n",
      "2021-07-01    18994.772518\n",
      "2021-07-01    19134.572990\n",
      "2021-07-01    19057.513042\n",
      "2021-07-01    19156.705233\n",
      "2021-07-01    19112.649446\n",
      "2021-07-01    19185.017683\n",
      "2021-07-01    19162.762921\n",
      "2021-07-01    19217.412492\n",
      "2021-07-01    19209.558480\n",
      "2021-07-01    19252.503919\n",
      "2021-07-01    19254.162378\n",
      "2021-07-01    19289.376607\n",
      "2021-07-01    19297.318564\n",
      "2021-07-01    19327.425914\n",
      "2021-07-01    19339.518461\n",
      "2021-07-01    19366.252442\n",
      "2021-07-01    19381.086675\n",
      "2021-07-01    19405.592365\n",
      "dtype: float64\n"
     ]
    }
   ],
   "source": [
    "start=len(train)\n",
    "end=len(train)+len(test)-1\n",
    "pred=model.predict(start=start,end=end,typ='levels')\n",
    "pred.index=data.index[start:end+1]\n",
    "print(pred)"
   ]
  },
  {
   "cell_type": "code",
   "execution_count": 89,
   "id": "224977a7",
   "metadata": {},
   "outputs": [
    {
     "data": {
      "text/html": [
       "<div>\n",
       "<style scoped>\n",
       "    .dataframe tbody tr th:only-of-type {\n",
       "        vertical-align: middle;\n",
       "    }\n",
       "\n",
       "    .dataframe tbody tr th {\n",
       "        vertical-align: top;\n",
       "    }\n",
       "\n",
       "    .dataframe thead th {\n",
       "        text-align: right;\n",
       "    }\n",
       "</style>\n",
       "<table border=\"1\" class=\"dataframe\">\n",
       "  <thead>\n",
       "    <tr style=\"text-align: right;\">\n",
       "      <th></th>\n",
       "      <th>Month</th>\n",
       "      <th>Owner</th>\n",
       "      <th>Course Name</th>\n",
       "      <th>Fees Received</th>\n",
       "      <th>Fees Total</th>\n",
       "      <th>Fees Pending</th>\n",
       "    </tr>\n",
       "  </thead>\n",
       "  <tbody>\n",
       "    <tr>\n",
       "      <th>1292</th>\n",
       "      <td>2021-07-01 00:00:00</td>\n",
       "      <td>NaN</td>\n",
       "      <td>NaN</td>\n",
       "      <td>NaN</td>\n",
       "      <td>NaN</td>\n",
       "      <td>0</td>\n",
       "    </tr>\n",
       "    <tr>\n",
       "      <th>1293</th>\n",
       "      <td>2021-07-01 00:00:00</td>\n",
       "      <td>NaN</td>\n",
       "      <td>NaN</td>\n",
       "      <td>NaN</td>\n",
       "      <td>NaN</td>\n",
       "      <td>0</td>\n",
       "    </tr>\n",
       "    <tr>\n",
       "      <th>1294</th>\n",
       "      <td>2021-07-01 00:00:00</td>\n",
       "      <td>NaN</td>\n",
       "      <td>NaN</td>\n",
       "      <td>NaN</td>\n",
       "      <td>NaN</td>\n",
       "      <td>0</td>\n",
       "    </tr>\n",
       "    <tr>\n",
       "      <th>1295</th>\n",
       "      <td>2021-07-01 00:00:00</td>\n",
       "      <td>NaN</td>\n",
       "      <td>NaN</td>\n",
       "      <td>NaN</td>\n",
       "      <td>NaN</td>\n",
       "      <td>0</td>\n",
       "    </tr>\n",
       "    <tr>\n",
       "      <th>1296</th>\n",
       "      <td>2021-07-01 00:00:00</td>\n",
       "      <td>NaN</td>\n",
       "      <td>NaN</td>\n",
       "      <td>NaN</td>\n",
       "      <td>NaN</td>\n",
       "      <td>0</td>\n",
       "    </tr>\n",
       "  </tbody>\n",
       "</table>\n",
       "</div>"
      ],
      "text/plain": [
       "0                   Month Owner Course Name Fees Received Fees Total  \\\n",
       "1292  2021-07-01 00:00:00   NaN         NaN           NaN        NaN   \n",
       "1293  2021-07-01 00:00:00   NaN         NaN           NaN        NaN   \n",
       "1294  2021-07-01 00:00:00   NaN         NaN           NaN        NaN   \n",
       "1295  2021-07-01 00:00:00   NaN         NaN           NaN        NaN   \n",
       "1296  2021-07-01 00:00:00   NaN         NaN           NaN        NaN   \n",
       "\n",
       "0    Fees Pending  \n",
       "1292            0  \n",
       "1293            0  \n",
       "1294            0  \n",
       "1295            0  \n",
       "1296            0  "
      ]
     },
     "execution_count": 89,
     "metadata": {},
     "output_type": "execute_result"
    }
   ],
   "source": [
    "model2=ARIMA(data['Fees Received'],order=(0,1,2))\n",
    "model2=model2.fit()\n",
    "new_df.tail()"
   ]
  },
  {
   "cell_type": "code",
   "execution_count": 90,
   "id": "9ca8125a",
   "metadata": {},
   "outputs": [
    {
     "name": "stdout",
     "output_type": "stream",
     "text": [
      "DatetimeIndex(['2021-08-01', '2021-08-02', '2021-08-03', '2021-08-04',\n",
      "               '2021-08-05', '2021-08-06', '2021-08-07', '2021-08-08',\n",
      "               '2021-08-09', '2021-08-10', '2021-08-11', '2021-08-12',\n",
      "               '2021-08-13', '2021-08-14', '2021-08-15', '2021-08-16',\n",
      "               '2021-08-17', '2021-08-18', '2021-08-19', '2021-08-20',\n",
      "               '2021-08-21', '2021-08-22', '2021-08-23', '2021-08-24',\n",
      "               '2021-08-25', '2021-08-26', '2021-08-27', '2021-08-28',\n",
      "               '2021-08-29', '2021-08-30', '2021-08-31', '2021-09-01'],\n",
      "              dtype='datetime64[ns]', freq='D')\n",
      "2021-08-01    18961.549202\n",
      "2021-08-02    18952.071574\n",
      "2021-08-03    18971.276667\n",
      "2021-08-04    18990.481759\n",
      "2021-08-05    19009.686852\n",
      "2021-08-06    19028.891945\n",
      "2021-08-07    19048.097038\n",
      "2021-08-08    19067.302131\n",
      "2021-08-09    19086.507224\n",
      "2021-08-10    19105.712317\n",
      "2021-08-11    19124.917410\n",
      "2021-08-12    19144.122503\n",
      "2021-08-13    19163.327596\n",
      "2021-08-14    19182.532689\n",
      "2021-08-15    19201.737782\n",
      "2021-08-16    19220.942875\n",
      "2021-08-17    19240.147968\n",
      "2021-08-18    19259.353061\n",
      "2021-08-19    19278.558154\n",
      "2021-08-20    19297.763247\n",
      "2021-08-21    19316.968340\n",
      "2021-08-22    19336.173433\n",
      "2021-08-23    19355.378526\n",
      "2021-08-24    19374.583619\n",
      "2021-08-25    19393.788712\n",
      "2021-08-26    19412.993805\n",
      "2021-08-27    19432.198898\n",
      "2021-08-28    19451.403991\n",
      "2021-08-29    19470.609084\n",
      "2021-08-30    19489.814177\n",
      "2021-08-31    19509.019270\n",
      "2021-09-01    19528.224363\n",
      "Freq: D, Name: ARIMA Productions, dtype: float64\n"
     ]
    }
   ],
   "source": [
    "index_future_dates=pd.date_range(start='2021-08-01',end='2021-09-01')\n",
    "print(index_future_dates)\n",
    "pred=model2.predict(start=len(data),end=len(data)+31,typ='levels').rename('ARIMA Productions')\n",
    "pred.index=index_future_dates\n",
    "print(pred)"
   ]
  },
  {
   "cell_type": "code",
   "execution_count": 92,
   "id": "27a1e359",
   "metadata": {},
   "outputs": [
    {
     "data": {
      "text/plain": [
       "<AxesSubplot:>"
      ]
     },
     "execution_count": 92,
     "metadata": {},
     "output_type": "execute_result"
    },
    {
     "data": {
      "image/png": "[encoded data removed]",
      "text/plain": [
       "<Figure size 864x720 with 1 Axes>"
      ]
     },
     "metadata": {
      "needs_background": "light"
     },
     "output_type": "display_data"
    }
   ],
   "source": [
    "pred.plot(figsize=(12,10))"
   ]
  },
  {
   "cell_type": "code",
   "execution_count": null,
   "id": "3d31808f",
   "metadata": {},
   "outputs": [],
   "source": []
  }
 ],
 "metadata": {
  "kernelspec": {
   "display_name": "Python 3",
   "language": "python",
   "name": "python3"
  },
  "language_info": {
   "codemirror_mode": {
    "name": "ipython",
    "version": 3
   },
   "file_extension": ".py",
   "mimetype": "text/x-python",
   "name": "python",
   "nbconvert_exporter": "python",
   "pygments_lexer": "ipython3",
   "version": "3.8.8"
  }
 },
 "nbformat": 4,
 "nbformat_minor": 5
}
